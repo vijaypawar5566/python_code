{
 "cells": [
  {
   "cell_type": "markdown",
   "id": "201f9e20",
   "metadata": {},
   "source": [
    "# Q.1\n",
    "Q Sort all the numbers in a list in descending order using lambda function\n"
   ]
  },
  {
   "cell_type": "code",
   "execution_count": 7,
   "id": "340d89c6",
   "metadata": {},
   "outputs": [
    {
     "name": "stdout",
     "output_type": "stream",
     "text": [
      "[6, 5, 4, 3, 2, 1]\n"
     ]
    }
   ],
   "source": [
    "li=[1,2,3,4,5,6]\n",
    "li.sort(key=(lambda x:-x))\n",
    "print(li)\n"
   ]
  },
  {
   "cell_type": "markdown",
   "id": "4c1bce67",
   "metadata": {},
   "source": [
    "# Q.2\n",
    "Q Sort all the characters of given string using lambda function\n"
   ]
  },
  {
   "cell_type": "code",
   "execution_count": 12,
   "id": "ff99e7bf",
   "metadata": {},
   "outputs": [
    {
     "name": "stdout",
     "output_type": "stream",
     "text": [
      "['z', 'y', 'e', 'd', 'c', 'b', 'a']\n"
     ]
    }
   ],
   "source": [
    "li=['a','b','c','d','e','z','y']\n",
    "li.sort(key=(lambda x:-ord(x)))\n",
    "print(li)"
   ]
  },
  {
   "cell_type": "markdown",
   "id": "1b394135",
   "metadata": {},
   "source": [
    "# Q.3\n",
    "Q Given list of strings, sort all the strings by last character of that string. . Use lambda function and normal function both."
   ]
  },
  {
   "cell_type": "code",
   "execution_count": 19,
   "id": "0618e502",
   "metadata": {},
   "outputs": [
    {
     "name": "stdout",
     "output_type": "stream",
     "text": [
      "['mandaa', 'saurabh', 'kaustubh', 'sagar', 'vijay']\n"
     ]
    },
    {
     "ename": "NameError",
     "evalue": "name 'i' is not defined",
     "output_type": "error",
     "traceback": [
      "\u001b[1;31m---------------------------------------------------------------------------\u001b[0m",
      "\u001b[1;31mNameError\u001b[0m                                 Traceback (most recent call last)",
      "\u001b[1;32m~\\AppData\\Local\\Temp\\ipykernel_5492\\3524551028.py\u001b[0m in \u001b[0;36m<module>\u001b[1;34m\u001b[0m\n\u001b[0;32m      2\u001b[0m \u001b[0mli\u001b[0m\u001b[1;33m.\u001b[0m\u001b[0msort\u001b[0m\u001b[1;33m(\u001b[0m\u001b[0mkey\u001b[0m\u001b[1;33m=\u001b[0m\u001b[1;33m(\u001b[0m\u001b[1;32mlambda\u001b[0m \u001b[0mx\u001b[0m\u001b[1;33m:\u001b[0m\u001b[0mx\u001b[0m\u001b[1;33m[\u001b[0m\u001b[0mlen\u001b[0m\u001b[1;33m(\u001b[0m\u001b[0mx\u001b[0m\u001b[1;33m)\u001b[0m\u001b[1;33m-\u001b[0m\u001b[1;36m1\u001b[0m\u001b[1;33m]\u001b[0m\u001b[1;33m)\u001b[0m\u001b[1;33m)\u001b[0m\u001b[1;33m\u001b[0m\u001b[1;33m\u001b[0m\u001b[0m\n\u001b[0;32m      3\u001b[0m \u001b[0mprint\u001b[0m\u001b[1;33m(\u001b[0m\u001b[0mli\u001b[0m\u001b[1;33m)\u001b[0m\u001b[1;33m\u001b[0m\u001b[1;33m\u001b[0m\u001b[0m\n\u001b[1;32m----> 4\u001b[1;33m \u001b[0mli\u001b[0m\u001b[1;33m.\u001b[0m\u001b[0msort\u001b[0m\u001b[1;33m(\u001b[0m\u001b[0mi\u001b[0m\u001b[1;33m)\u001b[0m\u001b[1;33m\u001b[0m\u001b[1;33m\u001b[0m\u001b[0m\n\u001b[0m",
      "\u001b[1;31mNameError\u001b[0m: name 'i' is not defined"
     ]
    }
   ],
   "source": [
    "li=['vijay','mandaa','saurabh','sagar','kaustubh']\n",
    "li.sort(key=(lambda x:x[len(x)-1]))\n",
    "print(li)\n"
   ]
  },
  {
   "cell_type": "markdown",
   "id": "b651a393",
   "metadata": {},
   "source": [
    "# Q.3\n",
    "using Normal Function"
   ]
  },
  {
   "cell_type": "code",
   "execution_count": 20,
   "id": "7d5aee49",
   "metadata": {},
   "outputs": [
    {
     "ename": "SyntaxError",
     "evalue": "invalid syntax (1202667155.py, line 2)",
     "output_type": "error",
     "traceback": [
      "\u001b[1;36m  File \u001b[1;32m\"C:\\Users\\S\\AppData\\Local\\Temp\\ipykernel_5492\\1202667155.py\"\u001b[1;36m, line \u001b[1;32m2\u001b[0m\n\u001b[1;33m    list1.sort(list1[][2])\u001b[0m\n\u001b[1;37m                     ^\u001b[0m\n\u001b[1;31mSyntaxError\u001b[0m\u001b[1;31m:\u001b[0m invalid syntax\n"
     ]
    }
   ],
   "source": [
    "\n",
    "    "
   ]
  },
  {
   "cell_type": "markdown",
   "id": "26cace17",
   "metadata": {},
   "source": [
    "# Q.4\n",
    " Given list of employees. This list may contain repetitions. Find all unique employee names and print them as per order of second character in that name. Use lambda function and normal function both."
   ]
  },
  {
   "cell_type": "code",
   "execution_count": 26,
   "id": "c7ec777b",
   "metadata": {},
   "outputs": [
    {
     "name": "stdout",
     "output_type": "stream",
     "text": [
      "['saurabh', 'jby', 'kdustubh', 'vijay', 'mkndar', 'kustubh']\n"
     ]
    }
   ],
   "source": [
    "li=['vijay','jby','mkndar','saurabh','kdustubh','kustubh']\n",
    "bi=set(li)\n",
    "li=list(bi)\n",
    "li.sort(key=(lambda x:x[1]))\n",
    "print(li)"
   ]
  },
  {
   "cell_type": "markdown",
   "id": "42ff230c",
   "metadata": {},
   "source": [
    "# Q5\n",
    "Q. Take Employee id and Employee name of 5 employees from user. Store it in dictionary. Print all employees in increasing order of employee Id . \n"
   ]
  },
  {
   "cell_type": "code",
   "execution_count": 33,
   "id": "afce579f",
   "metadata": {},
   "outputs": [
    {
     "name": "stdout",
     "output_type": "stream",
     "text": [
      "{'keshav': 28, 'vijay': 123, 'mandar': 147, 'Tejas': 789, 'sagra': 963}\n"
     ]
    }
   ],
   "source": [
    "li={'vijay':123,'mandar':147,'sagra':963,'Tejas':789,'keshav':28}\n",
    "bi=list(li.items())\n",
    "bi.sort(key=(lambda x:x[1]))\n",
    "ci=dict(bi)\n",
    "print(ci)"
   ]
  },
  {
   "cell_type": "markdown",
   "id": "12fa9c49",
   "metadata": {},
   "source": [
    "# Q.5\n",
    "Also print all employees in alphabetical order by name."
   ]
  },
  {
   "cell_type": "code",
   "execution_count": 34,
   "id": "4b387bdc",
   "metadata": {},
   "outputs": [
    {
     "name": "stdout",
     "output_type": "stream",
     "text": [
      "{'Tejas': 789, 'keshav': 28, 'mandar': 147, 'sagra': 963, 'vijay': 123}\n"
     ]
    }
   ],
   "source": [
    "li={'vijay':123,'mandar':147,'sagra':963,'Tejas':789,'keshav':28}\n",
    "bi=list(li.items())\n",
    "bi.sort(key=(lambda x:x[0]))\n",
    "ci=dict(bi)\n",
    "print(ci)"
   ]
  },
  {
   "cell_type": "markdown",
   "id": "c877f82d",
   "metadata": {},
   "source": [
    "# Q.6\n",
    " Take comma separated numbers as input from the user. Split it in list of strings. Now convert every string in this list to float using map function\n"
   ]
  },
  {
   "cell_type": "code",
   "execution_count": 39,
   "id": "a83d9c24",
   "metadata": {},
   "outputs": [
    {
     "name": "stdout",
     "output_type": "stream",
     "text": [
      "Enter Input With comma separated values1,2,3,4,5,6,7,9\n",
      "[1.0, 2.0, 3.0, 4.0, 5.0, 6.0, 7.0, 9.0]\n"
     ]
    }
   ],
   "source": [
    "str1=input(\"Enter Input With comma separated values\")\n",
    "li=str1.split(\",\")\n",
    "\n",
    "ci=map(lambda x:float(x),li)\n",
    "print(list(ci))"
   ]
  },
  {
   "cell_type": "markdown",
   "id": "18d8deca",
   "metadata": {},
   "source": [
    "# Q.7\n",
    " Given list of floating point numbers. Convert every number into string and then join all the numbers such that they are separated by pipe(|)\n"
   ]
  },
  {
   "cell_type": "code",
   "execution_count": 2,
   "id": "55245621",
   "metadata": {},
   "outputs": [
    {
     "name": "stdout",
     "output_type": "stream",
     "text": [
      "1.0|2.0|3.4|6.4|7.6|8.2\n"
     ]
    }
   ],
   "source": [
    "li=[1.0,2.0,3.4,6.4,7.6,8.2]\n",
    "d=map(lambda x:str(x),li)\n",
    "# print(list(d))\n",
    "a=\"|\".join(list(d))\n",
    "print(a)"
   ]
  },
  {
   "cell_type": "markdown",
   "id": "6308150a",
   "metadata": {},
   "source": [
    "# Q.8\n",
    "Given list of integers. Use map function to calculate square of all and store in list. Then print sum of all square values.\n"
   ]
  },
  {
   "cell_type": "code",
   "execution_count": 1,
   "id": "534bf9f0",
   "metadata": {},
   "outputs": [
    {
     "name": "stdout",
     "output_type": "stream",
     "text": [
      "[1, 4, 9, 16, 25, 49, 64]\n"
     ]
    }
   ],
   "source": [
    "li=[1,2,3,4,5,7,8]\n",
    "li=map(lambda x:x**2,li)\n",
    "print(list(li))"
   ]
  },
  {
   "cell_type": "code",
   "execution_count": null,
   "id": "11a21786",
   "metadata": {},
   "outputs": [],
   "source": []
  }
 ],
 "metadata": {
  "kernelspec": {
   "display_name": "Python 3 (ipykernel)",
   "language": "python",
   "name": "python3"
  },
  "language_info": {
   "codemirror_mode": {
    "name": "ipython",
    "version": 3
   },
   "file_extension": ".py",
   "mimetype": "text/x-python",
   "name": "python",
   "nbconvert_exporter": "python",
   "pygments_lexer": "ipython3",
   "version": "3.9.13"
  }
 },
 "nbformat": 4,
 "nbformat_minor": 5
}
