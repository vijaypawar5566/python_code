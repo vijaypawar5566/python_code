{
 "cells": [
  {
   "cell_type": "markdown",
   "id": "b7ba3da1",
   "metadata": {},
   "source": [
    "# Assignment 3\n",
    "# Q1\n",
    "Write programs using lists in python\n",
    "1. Reverse a given list in Python\n",
    "aLsit = [100, 200, 300, 400, 500]\n",
    "output:\n",
    "[500, 400, 300, 200, 100]\n"
   ]
  },
  {
   "cell_type": "code",
   "execution_count": 14,
   "id": "6f10102e",
   "metadata": {},
   "outputs": [
    {
     "name": "stdout",
     "output_type": "stream",
     "text": [
      "Enter the elements in list using comma separator:  2,56,4,3,5,67,89,087,56\n",
      "[89, 87, 67, 56, 56, 5, 4, 3, 2]\n"
     ]
    }
   ],
   "source": [
    "value = input(\"Enter the elements in list using comma separator:  \")\n",
    "a= value.split(\",\")\n",
    "b=list()\n",
    "for i in range(len(a)):\n",
    "    b.append(int(a[i]))\n",
    "    # a=int(a)\n",
    "    #print(b)\n",
    "b.sort(reverse=True)\n",
    "print(b)"
   ]
  },
  {
   "cell_type": "markdown",
   "id": "e24f29a2",
   "metadata": {},
   "source": [
    "# Q2\n",
    "Concatenate two lists index-wise\n",
    "Given:\n",
    "list1 = [\"M\", \"na\", \"i\", \"Raj\"]\n",
    "list2 = [\"y\", \"me\", \"s\", \"esh\"]\n",
    "output:\n",
    "['My', 'name', 'is', 'Rajesh']"
   ]
  },
  {
   "cell_type": "code",
   "execution_count": 21,
   "id": "f5e94fc0",
   "metadata": {},
   "outputs": [
    {
     "name": "stdout",
     "output_type": "stream",
     "text": [
      "['My', 'name', 'is', 'Rajesh']\n"
     ]
    },
    {
     "data": {
      "text/plain": [
       "['My', 'name', 'is', 'Rajesh']"
      ]
     },
     "execution_count": 21,
     "metadata": {},
     "output_type": "execute_result"
    }
   ],
   "source": [
    "list1 = [\"M\", \"na\", \"i\", \"Raj\"]\n",
    "list2 = [\"y\", \"me\", \"s\", \"esh\"]\n",
    "list3 = []\n",
    "for i in range(len(list1)):\n",
    "     list3.append(list1[i]+list2[i])\n",
    "\n",
    "print(list3)\n",
    "# for i in range(len(list1)):\n",
    "#     list3[i]=list1[i]+list2[i]"
   ]
  },
  {
   "cell_type": "markdown",
   "id": "bd4d96e0",
   "metadata": {},
   "source": [
    "# Q3\n",
    "Given a Python list of numbers. Turn every item of a list into its square\n",
    "aList = [1, 2, 3, 4, 5, 6, 7]\n",
    "output:\n",
    "[1, 4, 9, 16, 25, 36, 49]"
   ]
  },
  {
   "cell_type": "code",
   "execution_count": 22,
   "id": "0fb69829",
   "metadata": {},
   "outputs": [
    {
     "name": "stdout",
     "output_type": "stream",
     "text": [
      "[1, 4, 9, 16, 25, 36, 49]\n"
     ]
    }
   ],
   "source": [
    "list1 = [1, 2, 3, 4, 5, 6, 7]\n",
    "for i in range(len(list1)):\n",
    "    list1[i] = list1[i]*list1[i]\n",
    "print(list1)"
   ]
  },
  {
   "cell_type": "markdown",
   "id": "6dfdabee",
   "metadata": {},
   "source": [
    "# Q4\n",
    "Concatenate two lists in the following order\n",
    "list1 = [\"Hello \", \"Welcome \"]\n",
    "list2 = [\"Students\", \"Sir\"]\n",
    "output:\n",
    "['Hello Students ', 'Hello Sir', 'welcome Students ', 'Welcome Sir']"
   ]
  },
  {
   "cell_type": "code",
   "execution_count": 24,
   "id": "8247b7e2",
   "metadata": {},
   "outputs": [
    {
     "name": "stdout",
     "output_type": "stream",
     "text": [
      "['Hello Students', 'Hello Sir', 'Welcome Students', 'Welcome Sir']\n"
     ]
    }
   ],
   "source": [
    "list1 = [\"Hello \", \"Welcome \"]\n",
    "list2 = [\"Students\", \"Sir\"] \n",
    "list3=[]\n",
    "\n",
    "for i in range(len(list1)):\n",
    "    for j in range(len(list2)):\n",
    "        list3.append(list1[i]+list2[j])\n",
    "print(list3)"
   ]
  },
  {
   "cell_type": "markdown",
   "id": "ee17d85f",
   "metadata": {},
   "source": [
    "# Q5\n",
    "Given a two Python list. Iterate both lists simultaneously such that list1 should display item\n",
    "in original order and list2 in reverse order\n",
    "list1 = [10, 20, 30, 40]\n",
    "list2 = [100, 200, 300, 400]\n",
    "output:\n",
    "10 400\n",
    "20 300\n",
    "30 200\n",
    "40 100"
   ]
  },
  {
   "cell_type": "code",
   "execution_count": 28,
   "id": "b83b8174",
   "metadata": {},
   "outputs": [
    {
     "name": "stdout",
     "output_type": "stream",
     "text": [
      "10 400\n",
      "20 300\n",
      "30 200\n",
      "40 100\n"
     ]
    }
   ],
   "source": [
    "list1 = [10, 20, 30, 40]\n",
    "list2 = [100, 200, 300, 400]\n",
    "\n",
    "list2.sort(reverse=True)\n",
    "for i in range(len(list1)):\n",
    "    print(list1[i],list2[i])\n"
   ]
  },
  {
   "cell_type": "markdown",
   "id": "27b9e86f",
   "metadata": {},
   "source": [
    "# Q6\n",
    "Remove empty strings from the list of strings\n",
    "list1 = [\"Ashish\", \"\", \"Atharva\", \"Amit\", \"\", \"Revati\"]\n",
    "output:\n",
    "[\"Ashish\", \"Atharva\", \"Amit\", \"Revati\"]"
   ]
  },
  {
   "cell_type": "code",
   "execution_count": 71,
   "id": "810b0585",
   "metadata": {},
   "outputs": [
    {
     "name": "stdout",
     "output_type": "stream",
     "text": [
      "['Ashish', 'Atharva', 'Amit', 'Revati']\n"
     ]
    }
   ],
   "source": [
    "list1 = [\"\",\"Ashish\", \"\", \"Atharva\",\"\", \"Amit\", \"\", \"Revati\",\"\"]\n",
    "# print(dir(list))\n",
    "# a= list1.count(\"\")\n",
    "# print(a)\n",
    "# for i in range(len(list1)-a+1):\n",
    "#     if list1[i]==\"\":\n",
    "#         list1.pop(i)\n",
    "# list1\n",
    "\n",
    "list2 = [\"\"]\n",
    "num = [i for i in list1 if i not in list2]\n",
    "print(num)"
   ]
  },
  {
   "cell_type": "markdown",
   "id": "9aa8387a",
   "metadata": {},
   "source": [
    "# Q7\n",
    "Add item 7000 after 6000 in the following Python List\n",
    "list1 = [10, 20, [300, 400, [5000, 6000], 500], 30, 40]\n",
    "output:\n",
    "[10, 20, [300, 400, [5000, 6000, 7000], 500], 30, 40]"
   ]
  },
  {
   "cell_type": "code",
   "execution_count": 67,
   "id": "b627b90b",
   "metadata": {},
   "outputs": [
    {
     "data": {
      "text/plain": [
       "[10, 20, [300, 400, [5000, 6000, 7000], 500], 30, 40]"
      ]
     },
     "execution_count": 67,
     "metadata": {},
     "output_type": "execute_result"
    }
   ],
   "source": [
    "list1 = [10, 20, [300, 400, [5000, 6000], 500], 30, 40]\n",
    "list1[2][2].append(7000)\n",
    "list1"
   ]
  },
  {
   "cell_type": "markdown",
   "id": "13c660d6",
   "metadata": {},
   "source": [
    "# Q8\n",
    "Given a nested list extend it by adding the sub list [\"h\", \"i\", \"j\"] in such a way that it will look\n",
    "like the following list\n",
    "list1 = [\"a\", \"b\", [\"c\", [\"d\", \"e\", [\"f\", \"g\"], \"k\"], \"l\"], \"m\", \"n\"]\n",
    "Sub List to be added = [\"h\", \"i\", \"j\"]\n",
    "output:\n",
    "['a', 'b', ['c', ['d', 'e', ['f', 'g', 'h', 'i', 'j'], 'k'], 'l'], 'm', 'n']\n"
   ]
  },
  {
   "cell_type": "code",
   "execution_count": 64,
   "id": "92901916",
   "metadata": {},
   "outputs": [
    {
     "name": "stdout",
     "output_type": "stream",
     "text": [
      "['a', 'b', ['c', ['d', 'e', ['f', 'g', 'h', 'i', 'j'], 'k'], 'l'], 'm', 'n']\n"
     ]
    }
   ],
   "source": [
    "list1 = [\"a\", \"b\", [\"c\", [\"d\", \"e\", [\"f\", \"g\"], \"k\"], \"l\"], \"m\", \"n\"]\n",
    "subList = [\"h\", \"i\", \"j\"]\n",
    "\n",
    "list1[2][1][2].extend(subList)\n",
    "print(list1)"
   ]
  },
  {
   "cell_type": "markdown",
   "id": "a435b5dd",
   "metadata": {},
   "source": [
    "# Q9\n",
    "Given a Python list, find value 20 in the list, and if it is present, replace it with 200. Only\n",
    "update the first occurrence of a value\n",
    "list1 = [5, 10, 15, 20, 25, 50, 20]\n",
    "output:\n",
    "list1 = [5, 10, 15, 200, 25, 50, 20]"
   ]
  },
  {
   "cell_type": "code",
   "execution_count": 63,
   "id": "0122ca96",
   "metadata": {},
   "outputs": [
    {
     "data": {
      "text/plain": [
       "[5, 10, 15, 200, 25, 50, 20]"
      ]
     },
     "execution_count": 63,
     "metadata": {},
     "output_type": "execute_result"
    }
   ],
   "source": [
    "list1 = [5, 10, 15, 20, 25, 50, 20]\n",
    "for i in range(len(list1)):\n",
    "    if list1[i] == 20:        \n",
    "        list1[i]=200\n",
    "        break\n",
    "list1"
   ]
  },
  {
   "cell_type": "markdown",
   "id": "c1179f88",
   "metadata": {},
   "source": [
    "# Q10\n",
    "Given a Python list, remove all occurrence of 20 from the list\n",
    "list1 = [5, 20, 15, 20, 25, 50, 20]\n",
    "output:\n",
    "[5, 15, 25, 50]"
   ]
  },
  {
   "cell_type": "code",
   "execution_count": 68,
   "id": "3977cd3f",
   "metadata": {},
   "outputs": [
    {
     "name": "stdout",
     "output_type": "stream",
     "text": [
      "[5, 15, 25, 50]\n"
     ]
    }
   ],
   "source": [
    "list1 = [5, 20, 15, 20, 25, 50, 20]\n",
    "#a = list.count(20)\n",
    "# a=len(list1)\n",
    "# count=0\n",
    "# for i in range(a):\n",
    "#     if list1[i]==20:\n",
    "#         count=count+1\n",
    "# for i in range(a-count+1):\n",
    "#     if list1[i]==20:\n",
    "#         list1.pop(i)\n",
    "# print(list1)\n",
    "\n",
    "list2 =[20]\n",
    "num = [i for i in list1 if i not in list2]\n",
    "print(num)"
   ]
  },
  {
   "cell_type": "markdown",
   "id": "9a24ab3d",
   "metadata": {},
   "source": [
    "# Assignment 3 String From Q6\n",
    "Find all occurrences of “USA” from right to left in a given string ignoring the case. also display the\n",
    "starting position\n",
    "Given:\n",
    "str1 = \"Welcome to USA. usa awesome, isn't it?\n",
    "Expected answer : 16, 11"
   ]
  },
  {
   "cell_type": "code",
   "execution_count": 139,
   "id": "676e5bc5",
   "metadata": {},
   "outputs": [
    {
     "name": "stdout",
     "output_type": "stream",
     "text": [
      "2\n"
     ]
    }
   ],
   "source": [
    "str1 = \"Welcome to USA. usa awesome, isn't it?\"\n",
    "s1 = str1.upper()\n",
    "a = s1.count(\"USA\")\n",
    "print(a)"
   ]
  },
  {
   "cell_type": "markdown",
   "id": "11f1d8f5",
   "metadata": {},
   "source": [
    "#  Q7\n",
    "Find all overlapping occurrences of given substring in given string\n",
    "Ex.\n",
    "String = 0111\n",
    "Substring = 11\n",
    "Expected answer : 2\n",
    "String : ANANAAAANNN\n",
    "Substring: ANA\n",
    "Expected answer : 2\n",
    "String : ANANAAAANNN\n",
    "Substring: AA\n",
    "Expected answer : 3\n"
   ]
  },
  {
   "cell_type": "code",
   "execution_count": 78,
   "id": "9a592cf9",
   "metadata": {},
   "outputs": [
    {
     "name": "stdout",
     "output_type": "stream",
     "text": [
      "['AN', 'NA', 'AN', 'NA', 'AA', 'AA', 'AA', 'AN', 'NN', 'NN']\n",
      "3\n"
     ]
    }
   ],
   "source": [
    "s1 = 'ANANAAAANNN'\n",
    "s2 = 'AN'\n",
    "l1 = []\n",
    "for i in range(len(s1)-1):\n",
    "    l1.append(s1[i]+s1[i+1])\n",
    "a = l1.count(s2)\n",
    "print(l1)\n",
    "print(a)\n"
   ]
  },
  {
   "cell_type": "markdown",
   "id": "cb4e7ef0",
   "metadata": {},
   "source": [
    "# Q9\n",
    "9. Find all mobile number mentioned in given paragraph of text\n",
    "Mobile number is always a 10 digit number no spaces no special characters\n",
    "Ex. Input= “this is a good number 9089786756 and 8900000000 is a desired number”\n",
    "Expected output: 9089786756 , 8900000000"
   ]
  },
  {
   "cell_type": "code",
   "execution_count": 96,
   "id": "26800cd9",
   "metadata": {},
   "outputs": [
    {
     "name": "stdout",
     "output_type": "stream",
     "text": [
      "['this', 'is', 'a', 'good', 'number', '9089786756', 'and', '8900000000', 'is', '987456m123', 'a', '908978676', 'desired', 'number']\n",
      "['9089786756', '8900000000']\n"
     ]
    }
   ],
   "source": [
    "s1 = \"this is a good number 9089786756 and 8900000000 is 987456m123  a 908978676 desired number\"\n",
    "a = s1.split()\n",
    "print(a)\n",
    "b=[]\n",
    "flag=True\n",
    "for i in range(len(a)):\n",
    "   # print(a[i])\n",
    "    if len(a[i])==10:\n",
    "        for j in range(len(a[i])):\n",
    "            if ord(a[i][j])>47 and ord(a[i][j])<58:\n",
    "                flag=True\n",
    "            else:\n",
    "                flag=False\n",
    "                break\n",
    "        if flag==True:\n",
    "            b.append(a[i])\n",
    "print(b)\n",
    "   # print(a[i])\n"
   ]
  },
  {
   "cell_type": "markdown",
   "id": "b6c58ad1",
   "metadata": {},
   "source": [
    "# Q10\n",
    "Count occurrence of spaces, and special characters in given string\n",
    "Ex.\n",
    "Input: Fgh^f #89\n",
    "Expected output :\n",
    "Spaces: 1\n",
    "Special characters: 2"
   ]
  },
  {
   "cell_type": "code",
   "execution_count": 110,
   "id": "8c53b1d3",
   "metadata": {},
   "outputs": [
    {
     "name": "stdout",
     "output_type": "stream",
     "text": [
      "Spaces: 1\n",
      "Special Character:  5\n"
     ]
    }
   ],
   "source": [
    "s1 = 'Fgh^f #89ejfkl485948sdnfk46$@#2'\n",
    "a=s1.count(' ')\n",
    "print(\"Spaces:\",a)\n",
    "cnt=0\n",
    "s2=s1.upper()\n",
    "for e in range(len(s1)):\n",
    "    if ((ord(s2[e])>=65 and ord(s2[e])<=90 or ord(s2[e])==32) or (ord(s2[e])>=48 and ord(s2[e])<=57)):\n",
    "        continue\n",
    "    else:\n",
    "        cnt=cnt+1\n",
    "#         print(s2[e])\n",
    "        \n",
    "print(\"Special Character: \",cnt)\n",
    "        \n",
    "    "
   ]
  },
  {
   "cell_type": "markdown",
   "id": "5afc9b3b",
   "metadata": {},
   "source": [
    "# Q11\n",
    "\n",
    "Given a paragraph count number of words, sentences. Every sentence ends with either . or ? or !\n",
    "Print Count of how many normal sentences ending with . , how many interrogative sentences ( ending\n",
    "with ?) and how many exclamatory sentences ( ending with !).\n",
    "Ex.\n",
    "Input : “I am at CDAC. What about you? I am surprised by current weather!”\n",
    "Normal sentence : 1\n",
    "Interrogative: 1\n",
    "Exclamatory : 1\n"
   ]
  },
  {
   "cell_type": "code",
   "execution_count": 124,
   "id": "f9b4c8ef",
   "metadata": {},
   "outputs": [
    {
     "name": "stdout",
     "output_type": "stream",
     "text": [
      "Normal sentence: 1\n",
      "Exclamatory: 1\n",
      "Interrogative: 2\n"
     ]
    }
   ],
   "source": [
    "s1='I am at CDAC. What about you? I am surprised ? by current weather!'\n",
    "a =s1.split()\n",
    "count= 0\n",
    "qcnt=0\n",
    "ecnt=0\n",
    "# print(a)\n",
    "for i in a:\n",
    "    if i.endswith(\".\"):\n",
    "        count= count+1\n",
    "    elif i.endswith(\"!\"):\n",
    "        ecnt=ecnt+1\n",
    "    elif i.endswith(\"?\"):\n",
    "        qcnt=qcnt+1\n",
    "print(\"Normal sentence:\",count)   \n",
    "print(\"Exclamatory:\",ecnt)\n",
    "print(\"Interrogative:\",qcnt)\n"
   ]
  },
  {
   "cell_type": "markdown",
   "id": "e1087602",
   "metadata": {},
   "source": [
    "# Q12\n",
    "You are given a string S and width w.\n",
    "Your task is to wrap the string into a paragraph of width w\n",
    "\n",
    "Example .\n",
    "String : “ABCDEFGHIJKLIMNOQRSTUVWXYZ”\n",
    "Width: 4\n",
    "Output:\n",
    "ABCD\n",
    "EFGH\n",
    "IJKL\n",
    "IMNO\n",
    "QRST\n",
    "UVWX\n",
    "YZ\n"
   ]
  },
  {
   "cell_type": "code",
   "execution_count": 133,
   "id": "b64881a5",
   "metadata": {},
   "outputs": [
    {
     "name": "stdout",
     "output_type": "stream",
     "text": [
      "ABCD\n",
      "EFGH\n",
      "IJKL\n",
      "IMNO\n",
      "QRST\n",
      "UVWX\n",
      "YZ"
     ]
    }
   ],
   "source": [
    "str1=\"ABCDEFGHIJKLIMNOQRSTUVWXYZ\"\n",
    "cnt=0\n",
    "for e in range(len(str1)):\n",
    "    if cnt==4:\n",
    "        print(\"\",end=\"\\n\")\n",
    "        cnt=0\n",
    "    print(str1[e],end=\"\")\n",
    "    cnt=cnt+1\n",
    "   \n",
    "     "
   ]
  },
  {
   "cell_type": "code",
   "execution_count": null,
   "id": "83fbbf62",
   "metadata": {},
   "outputs": [],
   "source": []
  }
 ],
 "metadata": {
  "kernelspec": {
   "display_name": "Python 3 (ipykernel)",
   "language": "python",
   "name": "python3"
  },
  "language_info": {
   "codemirror_mode": {
    "name": "ipython",
    "version": 3
   },
   "file_extension": ".py",
   "mimetype": "text/x-python",
   "name": "python",
   "nbconvert_exporter": "python",
   "pygments_lexer": "ipython3",
   "version": "3.9.13"
  }
 },
 "nbformat": 4,
 "nbformat_minor": 5
}
