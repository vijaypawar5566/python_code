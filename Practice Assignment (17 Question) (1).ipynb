{
 "cells": [
  {
   "cell_type": "markdown",
   "id": "9aef06ed",
   "metadata": {},
   "source": [
    "# Question 1:\n",
    "Write a program which will find all such numbers which are divisible by 7 but are not a multiple of 5,\n",
    "between 2000 and 3200 (both included).\n",
    "The numbers obtained should be printed in a comma-separated sequence on a single line.\n",
    "Hints: \n",
    "Consider use range(#begin, #end) method\n"
   ]
  },
  {
   "cell_type": "code",
   "execution_count": 14,
   "id": "3ba06cd3",
   "metadata": {},
   "outputs": [],
   "source": [
    "list1=[]\n",
    "def find7(start,end):\n",
    "    for e in range(start,end+1):\n",
    "        if e%7==0 and e%5!=0:\n",
    "            list1.append(e)"
   ]
  },
  {
   "cell_type": "code",
   "execution_count": 22,
   "id": "82c06ce5",
   "metadata": {},
   "outputs": [
    {
     "name": "stdout",
     "output_type": "stream",
     "text": [
      "2002,2009,2016,2023,2037,2044,2051,2058,2072,2079,2086,2093,2107,2114,2121,2128,2142,2149,2156,2163,2177,2184,2191,2198,2212,2219,2226,2233,2247,2254,2261,2268,2282,2289,2296,2303,2317,2324,2331,2338,2352,2359,2366,2373,2387,2394,2401,2408,2422,2429,2436,2443,2457,2464,2471,2478,2492,2499,2506,2513,2527,2534,2541,2548,2562,2569,2576,2583,2597,2604,2611,2618,2632,2639,2646,2653,2667,2674,2681,2688,2702,2709,2716,2723,2737,2744,2751,2758,2772,2779,2786,2793,2807,2814,2821,2828,2842,2849,2856,2863,2877,2884,2891,2898,2912,2919,2926,2933,2947,2954,2961,2968,2982,2989,2996,3003,3017,3024,3031,3038,3052,3059,3066,3073,3087,3094,3101,3108,3122,3129,3136,3143,3157,3164,3171,3178,3192,3199,2002,2009,2016,2023,2037,2044,2051,2058,2072,2079,2086,2093,2107,2114,2121,2128,2142,2149,2156,2163,2177,2184,2191,2198,2212,2219,2226,2233,2247,2254,2261,2268,2282,2289,2296,2303,2317,2324,2331,2338,2352,2359,2366,2373,2387,2394,2401,2408,2422,2429,2436,2443,2457,2464,2471,2478,2492,2499,2506,2513,2527,2534,2541,2548,2562,2569,2576,2583,2597,2604,2611,2618,2632,2639,2646,2653,2667,2674,2681,2688,2702,2709,2716,2723,2737,2744,2751,2758,2772,2779,2786,2793,2807,2814,2821,2828,2842,2849,2856,2863,2877,2884,2891,2898,2912,2919,2926,2933,2947,2954,2961,2968,2982,2989,2996,3003,3017,3024,3031,3038,3052,3059,3066,3073,3087,3094,3101,3108,3122,3129,3136,3143,3157,3164,3171,3178,3192,3199,2002,2009,2016,2023,2037,2044,2051,2058,2072,2079,2086,2093,2107,2114,2121,2128,2142,2149,2156,2163,2177,2184,2191,2198,2212,2219,2226,2233,2247,2254,2261,2268,2282,2289,2296,2303,2317,2324,2331,2338,2352,2359,2366,2373,2387,2394,2401,2408,2422,2429,2436,2443,2457,2464,2471,2478,2492,2499,2506,2513,2527,2534,2541,2548,2562,2569,2576,2583,2597,2604,2611,2618,2632,2639,2646,2653,2667,2674,2681,2688,2702,2709,2716,2723,2737,2744,2751,2758,2772,2779,2786,2793,2807,2814,2821,2828,2842,2849,2856,2863,2877,2884,2891,2898,2912,2919,2926,2933,2947,2954,2961,2968,2982,2989,2996,3003,3017,3024,3031,3038,3052,3059,3066,3073,3087,3094,3101,3108,3122,3129,3136,3143,3157,3164,3171,3178,3192,3199,2002,2009,2016,2023,2037,2044,2051,2058,2072,2079,2086,2093,2107,2114,2121,2128,2142,2149,2156,2163,2177,2184,2191,2198,2212,2219,2226,2233,2247,2254,2261,2268,2282,2289,2296,2303,2317,2324,2331,2338,2352,2359,2366,2373,2387,2394,2401,2408,2422,2429,2436,2443,2457,2464,2471,2478,2492,2499,2506,2513,2527,2534,2541,2548,2562,2569,2576,2583,2597,2604,2611,2618,2632,2639,2646,2653,2667,2674,2681,2688,2702,2709,2716,2723,2737,2744,2751,2758,2772,2779,2786,2793,2807,2814,2821,2828,2842,2849,2856,2863,2877,2884,2891,2898,2912,2919,2926,2933,2947,2954,2961,2968,2982,2989,2996,3003,3017,3024,3031,3038,3052,3059,3066,3073,3087,3094,3101,3108,3122,3129,3136,3143,3157,3164,3171,3178,3192,3199,2002,2009,2016,2023,2037,2044,2051,2058,2072,2079,2086,2093,2107,2114,2121,2128,2142,2149,2156,2163,2177,2184,2191,2198,2212,2219,2226,2233,2247,2254,2261,2268,2282,2289,2296,2303,2317,2324,2331,2338,2352,2359,2366,2373,2387,2394,2401,2408,2422,2429,2436,2443,2457,2464,2471,2478,2492,2499,2506,2513,2527,2534,2541,2548,2562,2569,2576,2583,2597,2604,2611,2618,2632,2639,2646,2653,2667,2674,2681,2688,2702,2709,2716,2723,2737,2744,2751,2758,2772,2779,2786,2793,2807,2814,2821,2828,2842,2849,2856,2863,2877,2884,2891,2898,2912,2919,2926,2933,2947,2954,2961,2968,2982,2989,2996,3003,3017,3024,3031,3038,3052,3059,3066,3073,3087,3094,3101,3108,3122,3129,3136,3143,3157,3164,3171,3178,3192,3199,2002,2009,2016,2023,2037,2044,2051,2058,2072,2079,2086,2093,2107,2114,2121,2128,2142,2149,2156,2163,2177,2184,2191,2198,2212,2219,2226,2233,2247,2254,2261,2268,2282,2289,2296,2303,2317,2324,2331,2338,2352,2359,2366,2373,2387,2394,2401,2408,2422,2429,2436,2443,2457,2464,2471,2478,2492,2499,2506,2513,2527,2534,2541,2548,2562,2569,2576,2583,2597,2604,2611,2618,2632,2639,2646,2653,2667,2674,2681,2688,2702,2709,2716,2723,2737,2744,2751,2758,2772,2779,2786,2793,2807,2814,2821,2828,2842,2849,2856,2863,2877,2884,2891,2898,2912,2919,2926,2933,2947,2954,2961,2968,2982,2989,2996,3003,3017,3024,3031,3038,3052,3059,3066,3073,3087,3094,3101,3108,3122,3129,3136,3143,3157,3164,3171,3178,3192,3199,2002,2009,2016,2023,2037,2044,2051,2058,2072,2079,2086,2093,2107,2114,2121,2128,2142,2149,2156,2163,2177,2184,2191,2198,2212,2219,2226,2233,2247,2254,2261,2268,2282,2289,2296,2303,2317,2324,2331,2338,2352,2359,2366,2373,2387,2394,2401,2408,2422,2429,2436,2443,2457,2464,2471,2478,2492,2499,2506,2513,2527,2534,2541,2548,2562,2569,2576,2583,2597,2604,2611,2618,2632,2639,2646,2653,2667,2674,2681,2688,2702,2709,2716,2723,2737,2744,2751,2758,2772,2779,2786,2793,2807,2814,2821,2828,2842,2849,2856,2863,2877,2884,2891,2898,2912,2919,2926,2933,2947,2954,2961,2968,2982,2989,2996,3003,3017,3024,3031,3038,3052,3059,3066,3073,3087,3094,3101,3108,3122,3129,3136,3143,3157,3164,3171,3178,3192,3199,2002,2009,2016,2023,2037,2044,2051,2058,2072,2079,2086,2093,2107,2114,2121,2128,2142,2149,2156,2163,2177,2184,2191,2198,2212,2219,2226,2233,2247,2254,2261,2268,2282,2289,2296,2303,2317,2324,2331,2338,2352,2359,2366,2373,2387,2394,2401,2408,2422,2429,2436,2443,2457,2464,2471,2478,2492,2499,2506,2513,2527,2534,2541,2548,2562,2569,2576,2583,2597,2604,2611,2618,2632,2639,2646,2653,2667,2674,2681,2688,2702,2709,2716,2723,2737,2744,2751,2758,2772,2779,2786,2793,2807,2814,2821,2828,2842,2849,2856,2863,2877,2884,2891,2898,2912,2919,2926,2933,2947,2954,2961,2968,2982,2989,2996,3003,3017,3024,3031,3038,3052,3059,3066,3073,3087,3094,3101,3108,3122,3129,3136,3143,3157,3164,3171,3178,3192,3199\n"
     ]
    }
   ],
   "source": [
    "find7(2000,3200)\n",
    "#print(list1)\n",
    "x=map(lambda x:str(x),list1)\n",
    "#print(list(x))\n",
    "\n",
    "li=\",\".join(x)\n",
    "print(li)"
   ]
  },
  {
   "cell_type": "markdown",
   "id": "2570677c",
   "metadata": {},
   "source": [
    "# Question2:\n",
    "Write a program which can compute the factorial of a given numbers.\n",
    "The results should be printed in a comma-separated sequence on a single line.\n",
    "Suppose the following input is supplied to the program: 8\n",
    "Then, the output should be:\n",
    "40320\n",
    "Hints:In case of input data being supplied to the question, it should be assumed to be a console input.\n"
   ]
  },
  {
   "cell_type": "code",
   "execution_count": 78,
   "id": "07be6e18",
   "metadata": {},
   "outputs": [],
   "source": [
    "\n",
    "def factorial(num):\n",
    "    fact=1 \n",
    "    if(num==1):\n",
    "        return 1\n",
    "    else:\n",
    "        return num*factorial(num-1)\n",
    "             "
   ]
  },
  {
   "cell_type": "code",
   "execution_count": 85,
   "id": "b93b4f7d",
   "metadata": {},
   "outputs": [
    {
     "name": "stdout",
     "output_type": "stream",
     "text": [
      "4,0,3,2,0\n"
     ]
    }
   ],
   "source": [
    "a=factorial(8)\n",
    "a\n",
    "b=map(lambda x:x,str(a))\n",
    "val=\",\".join(b)\n",
    "print(val)"
   ]
  },
  {
   "cell_type": "markdown",
   "id": "986dc441",
   "metadata": {},
   "source": [
    "# Question 3:\n",
    "With a given integral number n, write a program to generate a dictionary that contains (i, i*i) such that is an integral number between 1 and n (both included). and then the program should print the dictionary.\n",
    "Suppose the following input is supplied to the program: 8\n",
    "Then, the output should be:\n",
    "{1: 1, 2: 4, 3: 9, 4: 16, 5: 25, 6: 36, 7: 49, 8: 64}\n",
    "Hints: In case of input data being supplied to the question, it should be assumed to be a console input.\n",
    "Consider use dict()\n"
   ]
  },
  {
   "cell_type": "code",
   "execution_count": 87,
   "id": "c0ac3902",
   "metadata": {},
   "outputs": [],
   "source": [
    "def createDic(num):\n",
    "    dic={}\n",
    "    for e in range(1,num+1):\n",
    "        dic[e]=e*e\n",
    "    print(dic)\n",
    "    \n",
    "    "
   ]
  },
  {
   "cell_type": "code",
   "execution_count": 88,
   "id": "36ac58c5",
   "metadata": {},
   "outputs": [
    {
     "name": "stdout",
     "output_type": "stream",
     "text": [
      "{1: 1, 2: 4, 3: 9, 4: 16, 5: 25}\n"
     ]
    }
   ],
   "source": [
    "createDic(5)"
   ]
  },
  {
   "cell_type": "markdown",
   "id": "9cc5243b",
   "metadata": {},
   "source": [
    "# Question 4:\n",
    "Write a program which accepts a sequence of comma separated 4 digit binary numbers as its input and then check whether they are divisible by 5 or not. The numbers that are divisible by 5 are to be printed in a comma separated sequence.\n",
    "Example:\n",
    "0100,0011,1010,1001\n",
    "Then the output should be: 1010\n",
    "Notes: Assume the data is input by console.\n",
    "Hints:In case of input data being supplied to the question, it should be assumed to be a console input.\n"
   ]
  },
  {
   "cell_type": "code",
   "execution_count": 239,
   "id": "fd22930f",
   "metadata": {},
   "outputs": [
    {
     "name": "stdout",
     "output_type": "stream",
     "text": [
      "['0100', '0011', '1010', '1001', '1111']\n",
      "1010,1111\n"
     ]
    }
   ],
   "source": [
    "#input1 = input(\"Enter comma Seprated value\")\n",
    "#input2=input1.split(\",\")\n",
    "input1='0100,0011,1010,1001,1111'\n",
    "li2=[]\n",
    "li1=input1.split(\",\")\n",
    "print(li1)\n",
    "for e in li1:\n",
    "    if int(e,2) % 5==0:\n",
    "        li2.append(e)\n",
    "\n",
    "li3=\",\".join(li2)\n",
    "print(li3)"
   ]
  },
  {
   "cell_type": "code",
   "execution_count": 238,
   "id": "0da6bed7",
   "metadata": {},
   "outputs": [
    {
     "data": {
      "text/plain": [
       "12"
      ]
     },
     "execution_count": 238,
     "metadata": {},
     "output_type": "execute_result"
    }
   ],
   "source": [
    "a=int('1100',2)\n",
    "a\n"
   ]
  },
  {
   "cell_type": "markdown",
   "id": "00c69b6b",
   "metadata": {},
   "source": [
    "# Question 5:\n",
    "Write a program, which will find all such numbers between 1000 and 3000 (both included) such that each digit of the number is an even number.\n",
    "The numbers obtained should be printed in a comma-separated sequence on a single line.\n",
    "\n",
    "Hints:\n",
    "In case of input data being supplied to the question, it should be assumed to be a console input.\n"
   ]
  },
  {
   "cell_type": "code",
   "execution_count": 245,
   "id": "b977fe87",
   "metadata": {},
   "outputs": [],
   "source": [
    "def evenno(start,end):\n",
    "    even=[]\n",
    "    for e in range(start,end+1):\n",
    "        if(e%2==0):\n",
    "            even.append(e)\n",
    "    a=map(lambda x:str(x),even)\n",
    "    #print(list(a))\n",
    "    ev1=\",\".join(a)\n",
    "    print(ev1)\n",
    "        "
   ]
  },
  {
   "cell_type": "code",
   "execution_count": 246,
   "id": "f0ccde65",
   "metadata": {},
   "outputs": [
    {
     "name": "stdout",
     "output_type": "stream",
     "text": [
      "2,4,6,8,10,12,14,16,18,20,22,24,26,28,30,32,34,36,38,40,42,44,46,48,50,52,54,56,58,60,62,64,66,68,70,72,74,76,78,80,82,84,86,88,90,92,94,96,98,100\n"
     ]
    }
   ],
   "source": [
    "evenno(1,100)"
   ]
  },
  {
   "cell_type": "markdown",
   "id": "ccbff717",
   "metadata": {},
   "source": [
    "# Question6:\n",
    "Write a program that accepts a sentence and calculate the number of letters and digits.\n",
    "Suppose the following input is supplied to the program:\n",
    "hello world! 123\n",
    "Then, the output should be:\n",
    "LETTERS 10\n",
    "DIGITS 3\n",
    "Hints:\n",
    "In case of input data being supplied to the question, it should be assumed to be a console input.\n"
   ]
  },
  {
   "cell_type": "code",
   "execution_count": 123,
   "id": "4a4a8067",
   "metadata": {},
   "outputs": [],
   "source": [
    "def acceptsen(sen):\n",
    "    ncnt=0\n",
    "    wcnt=0\n",
    "    sen=sen.upper()\n",
    "    for e in sen:\n",
    "        if ord(e) >=48 and ord(e)<=58:\n",
    "            ncnt=ncnt+1\n",
    "        elif ord(e)>=65 and ord(e)<=91:\n",
    "            wcnt=wcnt+1\n",
    "    print(\"Letters :\",wcnt)\n",
    "    print(\"Digits :\",ncnt)\n",
    "    \n",
    "    "
   ]
  },
  {
   "cell_type": "code",
   "execution_count": 124,
   "id": "53bf53db",
   "metadata": {},
   "outputs": [
    {
     "name": "stdout",
     "output_type": "stream",
     "text": [
      "Letters : 18\n",
      "Digits : 3\n"
     ]
    }
   ],
   "source": [
    "acceptsen(\"hello my123 name is vijay\")"
   ]
  },
  {
   "cell_type": "markdown",
   "id": "89cbaac6",
   "metadata": {},
   "source": [
    "# Question 7:\n",
    "Write a program that accepts a sentence and calculate the number of upper case letters and lower case letters.\n",
    "Suppose the following input is supplied to the program:\n",
    "Hello world!\n",
    "Then, the output should be:\n",
    "UPPER CASE 1\n",
    "LOWER CASE 9\n",
    "Hints:In case of input data being supplied to the question, it should be assumed to be a console input.\n"
   ]
  },
  {
   "cell_type": "code",
   "execution_count": 129,
   "id": "39bde529",
   "metadata": {},
   "outputs": [],
   "source": [
    "def calUL(sen):\n",
    "    ucnt=0\n",
    "    lcnt=0\n",
    "    for e in sen:\n",
    "        if e.isupper():\n",
    "            ucnt=ucnt+1\n",
    "        elif e.islower():\n",
    "            lcnt=lcnt+1\n",
    "    print(\"Upper Case :\",ucnt)\n",
    "    print(\"Lower Case :\",lcnt)\n",
    "    "
   ]
  },
  {
   "cell_type": "code",
   "execution_count": 131,
   "id": "7691ab8b",
   "metadata": {},
   "outputs": [
    {
     "name": "stdout",
     "output_type": "stream",
     "text": [
      "Upper Case : 2\n",
      "Lower Case : 8\n"
     ]
    }
   ],
   "source": [
    "calUL(\"VIjay pawar\")"
   ]
  },
  {
   "cell_type": "markdown",
   "id": "e66b36d2",
   "metadata": {},
   "source": [
    "# Question 8:\n",
    "Write a program that computes the net amount of a bank account based a transaction log from console input. The transaction log format is shown as following:\n",
    "D 100\n",
    "W 200\n",
    "D means deposit while W means withdrawal.\n",
    "Suppose the following input is supplied to the program:\n",
    "D 300\n",
    "D 300\n",
    "W 200\n",
    "D 100\n",
    "Then, the output should be:\n",
    "500\n",
    "Hints:In case of input data being supplied to the question, it should be assumed to be a console input.\n"
   ]
  },
  {
   "cell_type": "code",
   "execution_count": 304,
   "id": "2b24d1bd",
   "metadata": {},
   "outputs": [
    {
     "name": "stdout",
     "output_type": "stream",
     "text": [
      "Enter StringD 300 D 300 W 200 D 100\n",
      "500\n"
     ]
    }
   ],
   "source": [
    "sen=\"D 300 D 300 W 200 D 100\"\\\n",
    "#sen=input(\"Enter String\")\n",
    "li=sen.split(\" \")\n",
    "sum1=0\n",
    "finalTotal=0\n",
    "for e in range(len(li)):\n",
    "    if li[e] == \"D\":\n",
    "        sum1=sum1+int(li[e+1])\n",
    "    elif li[e] == \"W\":\n",
    "        sum1=sum1-int(li[e+1])\n",
    "\n",
    "print(sum1)"
   ]
  },
  {
   "cell_type": "markdown",
   "id": "67325d22",
   "metadata": {},
   "source": [
    "# Question 9:\n",
    "A website requires the users to input username and password to register. Write a program to check the validity of password input by users.\n",
    "Following are the criteria for checking the password:\n",
    "1. At least 1 letter between [a-z]\n",
    "2. At least 1 number between [0-9]\n",
    "1. At least 1 letter between [A-Z]\n",
    "3. At least 1 character from [$#@]\n",
    "4. Minimum length of transaction password: 6\n",
    "5. Maximum length of transaction password: 12\n",
    "Your program should accept a sequence of comma separated passwords and will check them according to the above criteria. Passwords that match the criteria are to be printed, each separated by a comma.\n",
    "Example\n",
    "If the following passwords are given as input to the program:\n",
    "ABd1234@1,a F1#,2w3E*,2We3345\n",
    "Then, the output of the program should be:\n",
    "ABd1234@1\n",
    "Hints:In case of input data being supplied to the question, it should be assumed to be a console input.\n"
   ]
  },
  {
   "cell_type": "code",
   "execution_count": 14,
   "id": "aaf4b9bf",
   "metadata": {},
   "outputs": [],
   "source": [
    "import re\n",
    "def passwd(pass1):\n",
    "    str2=\" \"\n",
    "    li=pass1.split(\",\")\n",
    "    for pass2 in li:\n",
    "        if len(pass2) <6 or len(pass2)>12 or str2 in pass2:\n",
    "            continue\n",
    "        elif re.findall(\"[a-z]\",pass2) and re.findall(\"[0-9]\",pass2) and re.findall(\"[A-Z]\",pass2) and re.findall(\"[$#@]\",pass2):\n",
    "            print(pass2,\"Valid\")\n",
    "\n",
    "    "
   ]
  },
  {
   "cell_type": "code",
   "execution_count": 16,
   "id": "048a34af",
   "metadata": {},
   "outputs": [
    {
     "name": "stdout",
     "output_type": "stream",
     "text": [
      "ABc$234@1 Valid\n"
     ]
    }
   ],
   "source": [
    "passwd(\"ABc$234@1,a F1#,2w3E*,2We3345\")"
   ]
  },
  {
   "cell_type": "markdown",
   "id": "a1d956d7",
   "metadata": {},
   "source": [
    "# Question 10:\n",
    "You are required to write a program to sort the (name, age, height) tuples by ascending order where name is string, age and height are numbers. The tuples are input by console. The sort criteria is:\n",
    "1: Sort based on name;\n",
    "2: Then sort based on age;\n",
    "3: Then sort by score.\n",
    "The priority is that name > age > score.\n",
    "If the following tuples are given as input to the program:\n",
    "Tom,19,80\n",
    "John,20,90\n",
    "Jony,17,91\n"
   ]
  },
  {
   "cell_type": "code",
   "execution_count": 295,
   "id": "777a504e",
   "metadata": {},
   "outputs": [
    {
     "name": "stdout",
     "output_type": "stream",
     "text": [
      "[('tom', 19, 80), ('aohn', 20, 90), ('zony', 17, 85), ('a', 2, 75), ('d', 8, 96)]\n"
     ]
    },
    {
     "data": {
      "text/plain": [
       "[('a', 2, 75),\n",
       " ('aohn', 20, 90),\n",
       " ('d', 8, 96),\n",
       " ('tom', 19, 80),\n",
       " ('zony', 17, 85)]"
      ]
     },
     "execution_count": 295,
     "metadata": {},
     "output_type": "execute_result"
    }
   ],
   "source": [
    "from operator import itemgetter\n",
    "\n",
    "tu=()\n",
    "tu=(('tom',19,80) ,('aohn',20,90) ,('zony',17,85),('a',2,75),('d',8,96))\n",
    "li=list(tu)\n",
    "print(li)\n",
    "\n",
    "sorted(li,key=itemgetter(0,1,2),reverse=False)\n"
   ]
  },
  {
   "cell_type": "markdown",
   "id": "8bf0e17e",
   "metadata": {},
   "source": [
    "# Question 11:\n",
    "A robot moves in a plane starting from the original point (0,0). The robot can move toward UP, DOWN, LEFT and RIGHT with a given steps. The trace of robot movement is shown as the following:\n",
    "UP 5\n",
    "DOWN 3\n",
    "LEFT 3\n",
    "RIGHT 2\n",
    "¡­\n",
    "The numbers after the direction are steps. Please write a program to compute the distance from current position after a sequence of movement and original point. If the distance is a float, then just print the nearest integer.\n",
    "Example:\n",
    "If the following tuples are given as input to the program:\n",
    "UP 5\n",
    "DOWN 3\n",
    "LEFT 3\n",
    "RIGHT 2\n",
    "Then, the output of the program should be:\n",
    "2\n",
    "Hints:\n",
    "In case of input data being supplied to the question, it should be assumed to be a console input.\n"
   ]
  },
  {
   "cell_type": "code",
   "execution_count": 273,
   "id": "1a705a95",
   "metadata": {},
   "outputs": [],
   "source": [
    "def robot(str1):\n",
    "    ver=0\n",
    "    hor=0\n",
    "    dist=0\n",
    "    li=str1.split(\" \")\n",
    "    for e in range(len(li)):\n",
    "        if li[e]==\"UP\":\n",
    "            ver=ver+int(li[e+1])\n",
    "        elif li[e]==\"DOWN\":\n",
    "            ver=ver-int(li[e+1])\n",
    "        elif li[e]==\"LEFT\":\n",
    "            hor=hor+int(li[e+1])\n",
    "        elif li[e]==\"RIGHT\":\n",
    "            hor=hor-int(li[e+1])\n",
    "    dist=(hor**2+ver**2)**0.5\n",
    "    print(dist)\n",
    "    \n",
    "            \n",
    "        \n",
    "    "
   ]
  },
  {
   "cell_type": "code",
   "execution_count": 274,
   "id": "ad9d18ff",
   "metadata": {},
   "outputs": [
    {
     "name": "stdout",
     "output_type": "stream",
     "text": [
      "2.23606797749979\n"
     ]
    }
   ],
   "source": [
    "robot(\"UP 5 DOWN 3 LEFT 3 RIGHT 2\")"
   ]
  },
  {
   "cell_type": "markdown",
   "id": "31352e5a",
   "metadata": {},
   "source": [
    "# Question 12:\n",
    "Write a program to compute the frequency of the words from the input. The output should output after sorting the key alphanumerically. \n",
    "Suppose the following input is supplied to the program:\n",
    "New to Python or choosing between Python 2 and Python 3? Read Python 2 or Python 3.\n",
    "Then, the output should be:\n",
    "2:2\n",
    "3.:1\n",
    "3?:1\n",
    "New:1\n",
    "Python:5\n",
    "Read:1\n",
    "and:1\n",
    "between:1\n",
    "choosing:1\n",
    "or:2\n",
    "to:1\n",
    "Hints\n",
    "In case of input data being supplied to the question, it should be assumed to be a console input.\n"
   ]
  },
  {
   "cell_type": "code",
   "execution_count": 309,
   "id": "15719948",
   "metadata": {},
   "outputs": [
    {
     "name": "stdout",
     "output_type": "stream",
     "text": [
      "{'2': 2, '3.': 2, '3?': 84, 'New': 1, 'Python': 5, 'Read': 1, 'and': 1, 'between': 1, 'choosing': 1, 'or': 2, 'to': 1}\n"
     ]
    }
   ],
   "source": [
    "import re\n",
    "str1=\"New to Python or choosing between Python 2 and Python 3? Read Python 2 or Python 3.\"\n",
    "\n",
    "li1=str1.split(\" \")\n",
    "li2=set(li1)\n",
    "\n",
    "li2=list(li2)\n",
    "li2.sort()\n",
    "dic={}\n",
    "\n",
    "for e in range(len(li2)):\n",
    "    x=re.findall(li2[e],str1)\n",
    "    #print(li2[e])\n",
    "    dic[li2[e]]=len(x)\n",
    "\n",
    "print(dic)\n",
    "\n",
    "\n",
    "    \n"
   ]
  },
  {
   "cell_type": "markdown",
   "id": "00355549",
   "metadata": {},
   "source": [
    "# Question 13:\n",
    "Question:\n",
    "Define a function that can accept two strings as input and print the string with maximum length in console. If two strings have the same length, then the function should print al l strings line by line.\n",
    "Hints:Use len() function to get the length of a string\n"
   ]
  },
  {
   "cell_type": "code",
   "execution_count": 264,
   "id": "734186fc",
   "metadata": {},
   "outputs": [],
   "source": [
    "str1=\"vijay\"\n",
    "str2=\"jay\"\n",
    "#tr1=input(\"enter string 1\")\n",
    "#tr2=input(\"Enter String 2\")\n",
    "def strcount(str1,str2):\n",
    "    if len(str1)==len(str2):\n",
    "        print(str1,\"\\n\",str2)\n",
    "\n",
    "    "
   ]
  },
  {
   "cell_type": "code",
   "execution_count": 265,
   "id": "e7590e36",
   "metadata": {},
   "outputs": [
    {
     "name": "stdout",
     "output_type": "stream",
     "text": [
      "vijay dkjmkldk  dnef \n",
      " vijay dkjmkldk  dnef\n"
     ]
    }
   ],
   "source": [
    "strcount(\"vijay dkjmkldk  dnef\",\"vijay dkjmkldk  dnef\")"
   ]
  },
  {
   "cell_type": "markdown",
   "id": "c368e702",
   "metadata": {},
   "source": [
    "# Question 14:\n",
    "Define a function which can print a dictionary where the keys are numbers between 1 and 20 (both included) and the values are square of keys.\n",
    "Hints:\n",
    "Use dict[key]=value pattern to put entry into a dictionary.\n",
    "Use ** operator to get power of a number.\n",
    "Use range() for loops.\n"
   ]
  },
  {
   "cell_type": "code",
   "execution_count": 351,
   "id": "239dcce6",
   "metadata": {},
   "outputs": [
    {
     "name": "stdout",
     "output_type": "stream",
     "text": [
      "{1: 1, 2: 4, 3: 9, 4: 16, 5: 25, 6: 36, 7: 49, 8: 64, 9: 81, 10: 100, 11: 121, 12: 144, 13: 169, 14: 196, 15: 225, 16: 256, 17: 289, 18: 324, 19: 361, 20: 400}\n"
     ]
    }
   ],
   "source": [
    "list1=list(range(1,21))\n",
    "dic={}\n",
    "#print(list1)\n",
    "\n",
    "for e in list1:\n",
    "    dic[e]=e**2\n",
    "print(dic)"
   ]
  },
  {
   "cell_type": "markdown",
   "id": "6882f379",
   "metadata": {},
   "source": [
    "# Question 15:\n",
    "Write a program which can map() and filter() to make a list whose elements are square of even number in [1,2,3,4,5,6,7,8,9,10].\n",
    "\n",
    "Hints:\n",
    "Use map() to generate a list.\n",
    "Use filter() to filter elements of a list.\n",
    "Use lambda to define anonymous functions.\n"
   ]
  },
  {
   "cell_type": "code",
   "execution_count": 251,
   "id": "1e719adf",
   "metadata": {},
   "outputs": [
    {
     "name": "stdout",
     "output_type": "stream",
     "text": [
      "[4, 16, 36, 64, 100]\n",
      "[1, 9, 25, 49, 81]\n"
     ]
    }
   ],
   "source": [
    "li=[1,2,3,4,5,6,7,8,9,10]\n",
    "\n",
    "eli=map(lambda x:x**2,filter(lambda x:x%2==0,li))\n",
    "print(list(eli))\n",
    "\n",
    "oli=map(lambda x:x**2,filter(lambda x:x%2!=0,li))\n",
    "print(list(oli))\n"
   ]
  },
  {
   "cell_type": "markdown",
   "id": "4199fde5",
   "metadata": {},
   "source": [
    "# Question 16:\n",
    "Define a class named Shape and its subclass Square. The Square class has an init function which takes a length as argument. Both classes have a area function which can print the area of the shape where Shape's area is 0 by default.\n",
    "\n",
    "Hints:\n",
    "To override a method in super class, we can define a method with the same name in the super class.\n",
    "\n"
   ]
  },
  {
   "cell_type": "code",
   "execution_count": null,
   "id": "d5bc5aae",
   "metadata": {},
   "outputs": [],
   "source": [
    "class shape:\n",
    "    def area(side):\n",
    "        return side*side\n",
    "    class square:\n",
    "        \n",
    "\n",
    "class square:\n",
    "    "
   ]
  },
  {
   "cell_type": "markdown",
   "id": "e292640e",
   "metadata": {},
   "source": [
    "# Question 17:\n",
    "Write a function to compute 5/0 and use try/except to catch the exceptions.\n",
    "\n",
    "Hints:\n",
    "\n",
    "Use try/except to catch exceptions.\n",
    "\n"
   ]
  },
  {
   "cell_type": "code",
   "execution_count": 352,
   "id": "c3252de2",
   "metadata": {},
   "outputs": [],
   "source": [
    "def excepti1():\n",
    "    try:\n",
    "        print(5/0)\n",
    "    except ZeroDivisionError:\n",
    "        print(\"Divide by zero error\")"
   ]
  },
  {
   "cell_type": "code",
   "execution_count": 353,
   "id": "66cfd8cb",
   "metadata": {},
   "outputs": [
    {
     "name": "stdout",
     "output_type": "stream",
     "text": [
      "Divide by zero error\n"
     ]
    }
   ],
   "source": [
    "excepti1()\n"
   ]
  }
 ],
 "metadata": {
  "kernelspec": {
   "display_name": "Python 3 (ipykernel)",
   "language": "python",
   "name": "python3"
  },
  "language_info": {
   "codemirror_mode": {
    "name": "ipython",
    "version": 3
   },
   "file_extension": ".py",
   "mimetype": "text/x-python",
   "name": "python",
   "nbconvert_exporter": "python",
   "pygments_lexer": "ipython3",
   "version": "3.9.13"
  }
 },
 "nbformat": 4,
 "nbformat_minor": 5
}
