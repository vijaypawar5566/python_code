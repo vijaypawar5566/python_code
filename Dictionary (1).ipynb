{
 "cells": [
  {
   "cell_type": "markdown",
   "id": "80a4088a",
   "metadata": {},
   "source": [
    "# Assignment - Dictionary"
   ]
  },
  {
   "cell_type": "markdown",
   "id": "51b4de89",
   "metadata": {},
   "source": [
    "# Q1\n",
    "In cryptography, a Caesar cipher is a very simple encryption techniques in which each letter in\n",
    "the plain text is replaced by a letter some fixed number of positions down the alphabet. For\n",
    "example, with a shift of 3, A would be replaced by D, B would become E, and so on. The\n",
    "method is named after Julius Caesar, who used it to communicate with his generals. ROT-13\n",
    "(\"rotate by 13 places\") is a widely used\n",
    "example of a Caesar cipher where the shift is 13. In Python, the key for ROT-13 may be\n",
    "represented by means of the following dictionary\n",
    "{'a':'n', 'b':'o', 'c':'p', 'd':'q', 'e':'r', 'f':'s', 'g':'t', 'h':'u', 'i':'v', 'j':'w', 'k':'x', 'l':'y', 'm':'z', 'n':'a', 'o':'b',\n",
    "'p':'c',\n",
    "'q':'d', 'r':'e', 's':'f', 't':'g', 'u':'h', 'v':'i', 'w':'j', 'x':'k', 'y':'l', 'z':'m', 'A':'N', 'B':'O', 'C':'P', 'D':'Q', 'E':'R',\n",
    "'F':'S', 'G':'T', 'H':'U', 'I':'V', 'J':'W', 'K':'X', 'L':'Y', 'M':'Z', 'N':'A', 'O':'B', 'P':'C', 'Q':'D', 'R':'E', 'S':'F',\n",
    "'T':'G', 'U':'H', 'V':'I', 'W':'J', 'X':'K', 'Y':'L', 'Z':'M'}\n",
    "Your task in this exercise is to implement an encoder/decoder of ROT-13. Once you're done,\n",
    "you will be able to read the following secret message:\n",
    "Pnrfne pvcure? V zhpu cersre Pnrfne fnynq!\n",
    "Note that since English has 26 characters, your ROT-13 program will be able to both encode\n",
    "and decode texts written in English."
   ]
  },
  {
   "cell_type": "code",
   "execution_count": 7,
   "id": "c0e05466",
   "metadata": {},
   "outputs": [
    {
     "name": "stdout",
     "output_type": "stream",
     "text": [
      "Caesar cipher? I much prefer Caesar salad!"
     ]
    }
   ],
   "source": [
    "di = {'a':'n', 'b':'o', 'c':'p', 'd':'q', 'e':'r', 'f':'s', 'g':'t', 'h':'u', 'i':'v', 'j':'w', 'k':'x', 'l':'y', 'm':'z', 'n':'a', 'o':'b', 'p':'c', 'q':'d', 'r':'e', 's':'f', 't':'g', 'u':'h', 'v':'i', 'w':'j', 'x':'k', 'y':'l', 'z':'m', 'A':'N', 'B':'O', 'C':'P', 'D':'Q', 'E':'R', 'F':'S', 'G':'T', 'H':'U', 'I':'V', 'J':'W', 'K':'X', 'L':'Y', 'M':'Z', 'N':'A', 'O':'B', 'P':'C', 'Q':'D', 'R':'E', 'S':'F', 'T':'G', 'U':'H', 'V':'I', 'W':'J', 'X':'K', 'Y':'L', 'Z':'M'} \n",
    "ans=\"Pnrfne pvcure? V zhpu cersre Pnrfne fnynq!\"\n",
    "special=['!','@','!',' ','?']\n",
    "for e in range(len(ans)):\n",
    "    if ans[e] in special:\n",
    "        print(ans[e],end=\"\")\n",
    "    else:\n",
    "        values=ans[e]\n",
    "        print(di.get(values),end=\"\")"
   ]
  },
  {
   "cell_type": "markdown",
   "id": "fcf80d8d",
   "metadata": {},
   "source": [
    "# 2\n",
    "Given a dictionary of students and their favourite colours:\n",
    "people={'Arham':'Blue','Lisa':'Yellow',''Vinod:'Purple','Jenny':'Pink'}\n",
    "1. Find out how many students are in the list\n",
    "2. Change Lisa’s favourite colour\n",
    "3. Remove 'Jenny' and her favourite colour\n",
    "4. Sort and print students and their favourite colours alphabetically by name"
   ]
  },
  {
   "cell_type": "code",
   "execution_count": 43,
   "id": "10600b2b",
   "metadata": {},
   "outputs": [
    {
     "name": "stdout",
     "output_type": "stream",
     "text": [
      "4\n",
      "{'zham': 'Blue', 'Lisa': 'White', 'Vinod': 'aurple', 'Jenny': 'Pink'}\n",
      "{'zham': 'Blue', 'Lisa': 'White', 'Vinod': 'aurple'}\n",
      "{'zham': 'Blue', 'Lisa': 'White', 'Vinod': 'aurple'}\n"
     ]
    }
   ],
   "source": [
    "people={'zham':'Blue','Lisa':'Yellow','Vinod':'aurple','Jenny':'Pink'}\n",
    "#print(dir(people))\n",
    "print(len(people))\n",
    "\n",
    "#2 \n",
    "people['Lisa']='White'\n",
    "print(people)\n",
    "\n",
    "#3\n",
    "people.pop('Jenny')\n",
    "print(people)\n",
    "\n",
    "#4\n",
    "sorted(people.keys())\n",
    "print(people)"
   ]
  },
  {
   "cell_type": "markdown",
   "id": "6b33a15c",
   "metadata": {},
   "source": [
    "# 3\n",
    "Write a menu driven program to practice Dictionary functions.\n",
    "Write a program to accept name of a person and their vehicle and store it in a dictionary.\n",
    "Ask user if they want to continue to accept multiple values.\n",
    "Display following menu:\n",
    "1. Add new person name and a vehicle name.\n",
    "2. Delete a person name and vehicle name from the dictionary.\n",
    "----Accept person name from user.\n",
    "----Check whether person name exists in the dictionary.\n",
    "----If exists show person name and vehicle name to the user.\n",
    "----Confirm for deletion, if user enters y\n",
    "then delete otherwise no. Display appropriate message.\n",
    "3. Modify vehicle name for the person\n",
    "----Accept a person name from user.\n",
    "----Check whether the person’s name exists.\n",
    "----If the name exists, show the person’s name and vehicle name to user.\n",
    "Ask for new value and then overwrite the old value.\n",
    "4. Search vehicle for the given person’s name.\n",
    "5. Search list of people, who have given a vehicle\n",
    "6. Display all person names.\n",
    "7. Display all vehicle names.\n",
    "8 Exit"
   ]
  },
  {
   "cell_type": "code",
   "execution_count": 85,
   "id": "b371797b",
   "metadata": {},
   "outputs": [
    {
     "name": "stdout",
     "output_type": "stream",
     "text": [
      "\n",
      "\n",
      "\n",
      "1. Add new person name and a vehicle name.\n",
      "2. Delete a person name and vehicle name from the dictionary.\n",
      "3. Modify vehicle name for the person\n",
      "4. Search vehicle for the given person’s name.\n",
      "5. Search list of people, who have given a vehicle \n",
      "6. Display all person names\n",
      "7. Display all vehicle names\n",
      "8. Exit\n",
      "9. Show all data.Enter Choice : 1\n",
      "Enter name : vijay\n",
      "Enter vehicle name : activa\n",
      "Name and Vehicle added succesfully....!\n",
      "{'vijay': 'activa'}\n",
      "\n",
      "\n",
      "\n",
      "1. Add new person name and a vehicle name.\n",
      "2. Delete a person name and vehicle name from the dictionary.\n",
      "3. Modify vehicle name for the person\n",
      "4. Search vehicle for the given person’s name.\n",
      "5. Search list of people, who have given a vehicle \n",
      "6. Display all person names\n",
      "7. Display all vehicle names\n",
      "8. Exit\n",
      "9. Show all data.Enter Choice : 9\n",
      "{'vijay': 'activa'}\n",
      "\n",
      "\n",
      "\n",
      "1. Add new person name and a vehicle name.\n",
      "2. Delete a person name and vehicle name from the dictionary.\n",
      "3. Modify vehicle name for the person\n",
      "4. Search vehicle for the given person’s name.\n",
      "5. Search list of people, who have given a vehicle \n",
      "6. Display all person names\n",
      "7. Display all vehicle names\n",
      "8. Exit\n",
      "9. Show all data.Enter Choice : 6\n",
      "dict_keys(['vijay'])\n",
      "\n",
      "\n",
      "\n",
      "1. Add new person name and a vehicle name.\n",
      "2. Delete a person name and vehicle name from the dictionary.\n",
      "3. Modify vehicle name for the person\n",
      "4. Search vehicle for the given person’s name.\n",
      "5. Search list of people, who have given a vehicle \n",
      "6. Display all person names\n",
      "7. Display all vehicle names\n",
      "8. Exit\n",
      "9. Show all data.Enter Choice : 3\n",
      "Enter person Name : vijay\n",
      "activa\n",
      "Enter Vehicle name : jupyter\n",
      "Vehicle name Updation Succesfully\n",
      "\n",
      "\n",
      "\n",
      "1. Add new person name and a vehicle name.\n",
      "2. Delete a person name and vehicle name from the dictionary.\n",
      "3. Modify vehicle name for the person\n",
      "4. Search vehicle for the given person’s name.\n",
      "5. Search list of people, who have given a vehicle \n",
      "6. Display all person names\n",
      "7. Display all vehicle names\n",
      "8. Exit\n",
      "9. Show all data.Enter Choice : 9\n",
      "{'vijay': 'jupyter'}\n",
      "\n",
      "\n",
      "\n",
      "1. Add new person name and a vehicle name.\n",
      "2. Delete a person name and vehicle name from the dictionary.\n",
      "3. Modify vehicle name for the person\n",
      "4. Search vehicle for the given person’s name.\n",
      "5. Search list of people, who have given a vehicle \n",
      "6. Display all person names\n",
      "7. Display all vehicle names\n",
      "8. Exit\n",
      "9. Show all data."
     ]
    },
    {
     "ename": "KeyboardInterrupt",
     "evalue": "Interrupted by user",
     "output_type": "error",
     "traceback": [
      "\u001b[1;31m---------------------------------------------------------------------------\u001b[0m",
      "\u001b[1;31mKeyboardInterrupt\u001b[0m                         Traceback (most recent call last)",
      "\u001b[1;32m~\\AppData\\Local\\Temp\\ipykernel_11436\\1173855937.py\u001b[0m in \u001b[0;36m<module>\u001b[1;34m\u001b[0m\n\u001b[0;32m     13\u001b[0m     \u001b[0mprint\u001b[0m\u001b[1;33m(\u001b[0m\u001b[0mend\u001b[0m\u001b[1;33m=\u001b[0m\u001b[1;34m\"\\n\"\u001b[0m \u001b[1;34m\"8. Exit\"\u001b[0m\u001b[1;33m)\u001b[0m\u001b[1;33m\u001b[0m\u001b[1;33m\u001b[0m\u001b[0m\n\u001b[0;32m     14\u001b[0m     \u001b[0mprint\u001b[0m\u001b[1;33m(\u001b[0m\u001b[0mend\u001b[0m\u001b[1;33m=\u001b[0m\u001b[1;34m\"\\n\"\u001b[0m \u001b[1;34m\"9. Show all data.\"\u001b[0m\u001b[1;33m)\u001b[0m\u001b[1;33m\u001b[0m\u001b[1;33m\u001b[0m\u001b[0m\n\u001b[1;32m---> 15\u001b[1;33m     \u001b[0mchoice\u001b[0m\u001b[1;33m=\u001b[0m\u001b[0mint\u001b[0m\u001b[1;33m(\u001b[0m\u001b[0minput\u001b[0m\u001b[1;33m(\u001b[0m\u001b[1;34m\"Enter Choice : \"\u001b[0m\u001b[1;33m)\u001b[0m\u001b[1;33m)\u001b[0m\u001b[1;33m\u001b[0m\u001b[1;33m\u001b[0m\u001b[0m\n\u001b[0m\u001b[0;32m     16\u001b[0m     \u001b[1;32mif\u001b[0m \u001b[0mchoice\u001b[0m \u001b[1;33m==\u001b[0m \u001b[1;36m1\u001b[0m\u001b[1;33m:\u001b[0m\u001b[1;33m\u001b[0m\u001b[1;33m\u001b[0m\u001b[0m\n\u001b[0;32m     17\u001b[0m         \u001b[0mvname\u001b[0m\u001b[1;33m=\u001b[0m\u001b[0minput\u001b[0m\u001b[1;33m(\u001b[0m\u001b[1;34m\"Enter name : \"\u001b[0m\u001b[1;33m)\u001b[0m\u001b[1;33m\u001b[0m\u001b[1;33m\u001b[0m\u001b[0m\n",
      "\u001b[1;32m~\\anaconda3\\lib\\site-packages\\ipykernel\\kernelbase.py\u001b[0m in \u001b[0;36mraw_input\u001b[1;34m(self, prompt)\u001b[0m\n\u001b[0;32m   1175\u001b[0m                 \u001b[1;34m\"raw_input was called, but this frontend does not support input requests.\"\u001b[0m\u001b[1;33m\u001b[0m\u001b[1;33m\u001b[0m\u001b[0m\n\u001b[0;32m   1176\u001b[0m             )\n\u001b[1;32m-> 1177\u001b[1;33m         return self._input_request(\n\u001b[0m\u001b[0;32m   1178\u001b[0m             \u001b[0mstr\u001b[0m\u001b[1;33m(\u001b[0m\u001b[0mprompt\u001b[0m\u001b[1;33m)\u001b[0m\u001b[1;33m,\u001b[0m\u001b[1;33m\u001b[0m\u001b[1;33m\u001b[0m\u001b[0m\n\u001b[0;32m   1179\u001b[0m             \u001b[0mself\u001b[0m\u001b[1;33m.\u001b[0m\u001b[0m_parent_ident\u001b[0m\u001b[1;33m[\u001b[0m\u001b[1;34m\"shell\"\u001b[0m\u001b[1;33m]\u001b[0m\u001b[1;33m,\u001b[0m\u001b[1;33m\u001b[0m\u001b[1;33m\u001b[0m\u001b[0m\n",
      "\u001b[1;32m~\\anaconda3\\lib\\site-packages\\ipykernel\\kernelbase.py\u001b[0m in \u001b[0;36m_input_request\u001b[1;34m(self, prompt, ident, parent, password)\u001b[0m\n\u001b[0;32m   1217\u001b[0m             \u001b[1;32mexcept\u001b[0m \u001b[0mKeyboardInterrupt\u001b[0m\u001b[1;33m:\u001b[0m\u001b[1;33m\u001b[0m\u001b[1;33m\u001b[0m\u001b[0m\n\u001b[0;32m   1218\u001b[0m                 \u001b[1;31m# re-raise KeyboardInterrupt, to truncate traceback\u001b[0m\u001b[1;33m\u001b[0m\u001b[1;33m\u001b[0m\u001b[0m\n\u001b[1;32m-> 1219\u001b[1;33m                 \u001b[1;32mraise\u001b[0m \u001b[0mKeyboardInterrupt\u001b[0m\u001b[1;33m(\u001b[0m\u001b[1;34m\"Interrupted by user\"\u001b[0m\u001b[1;33m)\u001b[0m \u001b[1;32mfrom\u001b[0m \u001b[1;32mNone\u001b[0m\u001b[1;33m\u001b[0m\u001b[1;33m\u001b[0m\u001b[0m\n\u001b[0m\u001b[0;32m   1220\u001b[0m             \u001b[1;32mexcept\u001b[0m \u001b[0mException\u001b[0m\u001b[1;33m:\u001b[0m\u001b[1;33m\u001b[0m\u001b[1;33m\u001b[0m\u001b[0m\n\u001b[0;32m   1221\u001b[0m                 \u001b[0mself\u001b[0m\u001b[1;33m.\u001b[0m\u001b[0mlog\u001b[0m\u001b[1;33m.\u001b[0m\u001b[0mwarning\u001b[0m\u001b[1;33m(\u001b[0m\u001b[1;34m\"Invalid Message:\"\u001b[0m\u001b[1;33m,\u001b[0m \u001b[0mexc_info\u001b[0m\u001b[1;33m=\u001b[0m\u001b[1;32mTrue\u001b[0m\u001b[1;33m)\u001b[0m\u001b[1;33m\u001b[0m\u001b[1;33m\u001b[0m\u001b[0m\n",
      "\u001b[1;31mKeyboardInterrupt\u001b[0m: Interrupted by user"
     ]
    }
   ],
   "source": [
    "di={}\n",
    "choice=1\n",
    "while(choice!=8):\n",
    "    print(\"\",end=\"\\n\")\n",
    "    print(\"\",end=\"\\n\")\n",
    "    print(\"\",end=\"\\n\")\n",
    "    print(\"1. Add new person name and a vehicle name.\",end=\"\\n\" \"2. Delete a person name and vehicle name from the dictionary.\")\n",
    "    print(\"\",end=\"\\n\")\n",
    "    print(\"3. Modify vehicle name for the person\",end=\"\\n\")\n",
    "    print(\"4. Search vehicle for the given person’s name.\",end=\"\\n\" \"5. Search list of people, who have given a vehicle \" )\n",
    "    print(\"\",end=\"\\n\")\n",
    "    print(\"6. Display all person names\",end=\"\\n\" \"7. Display all vehicle names\" )\n",
    "    print(end=\"\\n\" \"8. Exit\")\n",
    "    print(end=\"\\n\" \"9. Show all data.\")\n",
    "    choice=int(input(\"Enter Choice : \"))\n",
    "    if choice == 1:\n",
    "        vname=input(\"Enter name : \")\n",
    "        if vname not in di:\n",
    "            vehicle=input(\"Enter vehicle name : \")\n",
    "            di[vname]=vehicle\n",
    "            print(\"Name and Vehicle added succesfully....!\")\n",
    "            print(di)\n",
    "        else:\n",
    "            print(\"Person already exists\")\n",
    "    elif choice ==2:\n",
    "        vname=input(\"Enter Person Name to delete : \")\n",
    "        if vname in di:\n",
    "            a=input(\"Are you u want to delete records(Y/N).\")\n",
    "            if a==\"Y\":\n",
    "                di.pop(vname)\n",
    "                print(\"Name deleted Succesfully...!\")\n",
    "            else:\n",
    "                print(\"deletion Abort Succesfully\")\n",
    "            \n",
    "        else:\n",
    "            print(\"No record found for \",vname)\n",
    "    elif choice == 9:\n",
    "        print(di)\n",
    "    elif choice == 3:\n",
    "        vname=input(\"Enter person Name : \")\n",
    "        if vname in di:\n",
    "            print(di.get(vname))\n",
    "            di[vname]=input(\"Enter Vehicle name : \")\n",
    "            print(\"Vehicle name Updation Succesfully\")\n",
    "        else:\n",
    "            print(vname,\" dosen't exist\")\n",
    "    elif choice==4:\n",
    "        vname = input(\"Enter person name : \")\n",
    "        if vname in di:\n",
    "            print(\"Vehicle : \", di.get(vname))\n",
    "        else:\n",
    "            print(\"No Record found for \",vname)\n",
    "    elif choice == 5:\n",
    "        print(di.items())\n",
    "    elif choice == 6:\n",
    "        print(di.keys())\n",
    "    elif choice == 7:\n",
    "        print(di.values())\n",
    "    \n",
    "print(\"-------------------Thank You----------------------------\")        \n",
    "        \n",
    "        \n",
    "            \n"
   ]
  },
  {
   "cell_type": "code",
   "execution_count": null,
   "id": "46dd1ba5",
   "metadata": {},
   "outputs": [
    {
     "name": "stdout",
     "output_type": "stream",
     "text": [
      "Enter Choice1\n",
      "Enter City Name : pune\n",
      "{'pune': ['Enter Tree name Seperated by ', '']}\n",
      "Enter Choice1\n",
      "Enter City Name : pune\n"
     ]
    }
   ],
   "source": [
    "choice = 1\n",
    "di={}\n",
    "while(choice!=8):\n",
    "    choice=int(input(\"Enter Choice\"))\n",
    "    if choice == 1:\n",
    "        city=input(\"Enter City Name : \")\n",
    "        if city not in di:\n",
    "            tre=(\"Enter Tree name Seperated by ,\")\n",
    "            #tree=[]\n",
    "            #tree=tre.split(\",\")\n",
    "            di[city]=tree\n",
    "            print(di)\n",
    "    "
   ]
  },
  {
   "cell_type": "code",
   "execution_count": null,
   "id": "2e0bdd96",
   "metadata": {},
   "outputs": [],
   "source": []
  },
  {
   "cell_type": "code",
   "execution_count": null,
   "id": "52c7157a",
   "metadata": {},
   "outputs": [],
   "source": []
  }
 ],
 "metadata": {
  "kernelspec": {
   "display_name": "Python 3 (ipykernel)",
   "language": "python",
   "name": "python3"
  },
  "language_info": {
   "codemirror_mode": {
    "name": "ipython",
    "version": 3
   },
   "file_extension": ".py",
   "mimetype": "text/x-python",
   "name": "python",
   "nbconvert_exporter": "python",
   "pygments_lexer": "ipython3",
   "version": "3.9.13"
  }
 },
 "nbformat": 4,
 "nbformat_minor": 5
}
