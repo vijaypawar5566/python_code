{
 "cells": [
  {
   "cell_type": "markdown",
   "id": "14de8df7",
   "metadata": {
    "id": "14de8df7"
   },
   "source": [
    "# Q1\n"
   ]
  },
  {
   "cell_type": "code",
   "execution_count": null,
   "id": "BTINmpF80gBA",
   "metadata": {
    "colab": {
     "base_uri": "https://localhost:8080/"
    },
    "id": "BTINmpF80gBA",
    "outputId": "95e95e80-c8d2-480d-df29-f20e94ab93b4"
   },
   "outputs": [
    {
     "name": "stdout",
     "output_type": "stream",
     "text": [
      "Enter a StringRakeshzipPetabb\n",
      "zip\n"
     ]
    }
   ],
   "source": [
    "Str1=input(\"Enter a String\")\n",
    "st=Str1.replace(\" \",\"\")\n",
    "\n",
    "st1=list(st) \n",
    "a=(len(Str1)//2)\n",
    "\n",
    "print(Str1[a-1:a+2])"
   ]
  },
  {
   "cell_type": "markdown",
   "id": "3fa0d61c",
   "metadata": {
    "id": "3fa0d61c"
   },
   "source": [
    "# Q2"
   ]
  },
  {
   "cell_type": "code",
   "execution_count": null,
   "id": "d703ca2c",
   "metadata": {
    "id": "d703ca2c",
    "outputId": "b784a2a1-d7bd-41bf-ea59-87d54ac2322f"
   },
   "outputs": [
    {
     "name": "stdout",
     "output_type": "stream",
     "text": [
      "Enter String No 1deepak\n",
      "Enter String No 2rajesh\n",
      "deerajeshpak\n"
     ]
    }
   ],
   "source": [
    "str1=input(\"Enter String No 1\")\n",
    "str2=input(\"Enter String No 2\")\n",
    "c=str1[0:len(str1)//2]+str2+str1[len(str1)//2:len(str1)]\n",
    "\n",
    "\n",
    "print(c)"
   ]
  },
  {
   "cell_type": "markdown",
   "id": "d201aa97",
   "metadata": {
    "id": "d201aa97"
   },
   "source": [
    "# Q3"
   ]
  },
  {
   "cell_type": "code",
   "execution_count": null,
   "id": "a5716ad6",
   "metadata": {
    "id": "a5716ad6",
    "outputId": "212210fd-dc51-45fa-8988-5a318bd89d16"
   },
   "outputs": [
    {
     "name": "stdout",
     "output_type": "stream",
     "text": [
      "Enter String No 1vijay\n",
      "Enter String No 2jay\n",
      "['v', 'j', 'j', 'i', 'y', 'y']\n",
      "vjjiyy\n"
     ]
    }
   ],
   "source": [
    "str1=input(\"Enter String No 1\")\n",
    "str2=input(\"Enter String No 2\")\n",
    "Str3=list()\n",
    "Str3.append(str1[0])\n",
    "Str3.append(str2[0])\n",
    "\n",
    "Str3.append(str1[len(str1)//2])\n",
    "Str3.append(str1[len(str2)//2])\n",
    "\n",
    "Str3.append(str1[len(str1)-1])\n",
    "Str3.append(str2[len(str2)-1])\n",
    "\n",
    "a=\"\".join(Str3)\n",
    "print(a)\n",
    "\n",
    "\n",
    "\n"
   ]
  },
  {
   "cell_type": "markdown",
   "id": "2ea42dea",
   "metadata": {
    "id": "2ea42dea"
   },
   "source": [
    "# Q 4"
   ]
  },
  {
   "cell_type": "code",
   "execution_count": null,
   "id": "b799c5ad",
   "metadata": {
    "id": "b799c5ad",
    "outputId": "9fc62276-82b0-4e68-cb84-534ba08b81c7"
   },
   "outputs": [
    {
     "name": "stdout",
     "output_type": "stream",
     "text": [
      "Enter a StringViJayPawAr\n",
      "iayawrVJPA\n"
     ]
    }
   ],
   "source": [
    "Str1=input(\"Enter a String\")\n",
    "li=list(Str1)\n",
    "Str3=list()\n",
    "str3_capital=list()\n",
    "for e in range(len(li)):\n",
    "    if ord(li[e]) >=97 and ord(li[e])<=122:\n",
    "        Str3.append(li[e])\n",
    "    else:\n",
    "        str3_capital.append(li[e])\n",
    "final=Str3+str3_capital\n",
    "final=\"\".join(final)\n",
    "print(final)\n",
    "        \n"
   ]
  },
  {
   "cell_type": "markdown",
   "id": "6de1d2af",
   "metadata": {
    "id": "6de1d2af"
   },
   "source": [
    "# Q5\n"
   ]
  },
  {
   "cell_type": "code",
   "execution_count": null,
   "id": "31c721d7",
   "metadata": {
    "colab": {
     "base_uri": "https://localhost:8080/",
     "height": 269
    },
    "id": "31c721d7",
    "outputId": "c70af11f-b8e8-48a9-8df0-2564f5fcc44d"
   },
   "outputs": [
    {
     "name": "stdout",
     "output_type": "stream",
     "text": [
      "Enter String No 1ABC\n",
      "Enter String No 2XYXWER\n"
     ]
    },
    {
     "ename": "IndexError",
     "evalue": "ignored",
     "output_type": "error",
     "traceback": [
      "\u001b[0;31m---------------------------------------------------------------------------\u001b[0m",
      "\u001b[0;31mIndexError\u001b[0m                                Traceback (most recent call last)",
      "\u001b[0;32m<ipython-input-1-85b6054a3d61>\u001b[0m in \u001b[0;36m<module>\u001b[0;34m\u001b[0m\n\u001b[1;32m     18\u001b[0m \u001b[0mb\u001b[0m\u001b[0;34m=\u001b[0m\u001b[0mlen\u001b[0m\u001b[0;34m(\u001b[0m\u001b[0mStr2\u001b[0m\u001b[0;34m)\u001b[0m\u001b[0;34m-\u001b[0m\u001b[0;36m1\u001b[0m\u001b[0;34m\u001b[0m\u001b[0;34m\u001b[0m\u001b[0m\n\u001b[1;32m     19\u001b[0m \u001b[0;32mfor\u001b[0m \u001b[0me\u001b[0m \u001b[0;32min\u001b[0m \u001b[0mrange\u001b[0m \u001b[0;34m(\u001b[0m\u001b[0;36m0\u001b[0m\u001b[0;34m,\u001b[0m\u001b[0mlen\u001b[0m\u001b[0;34m(\u001b[0m\u001b[0mStr1\u001b[0m\u001b[0;34m)\u001b[0m\u001b[0;34m+\u001b[0m\u001b[0;36m3\u001b[0m\u001b[0;34m)\u001b[0m\u001b[0;34m:\u001b[0m\u001b[0;34m\u001b[0m\u001b[0;34m\u001b[0m\u001b[0m\n\u001b[0;32m---> 20\u001b[0;31m     \u001b[0mst3\u001b[0m\u001b[0;34m.\u001b[0m\u001b[0mappend\u001b[0m\u001b[0;34m(\u001b[0m\u001b[0mStr1\u001b[0m\u001b[0;34m[\u001b[0m\u001b[0ma\u001b[0m\u001b[0;34m]\u001b[0m\u001b[0;34m)\u001b[0m\u001b[0;34m\u001b[0m\u001b[0;34m\u001b[0m\u001b[0m\n\u001b[0m\u001b[1;32m     21\u001b[0m     \u001b[0mst3\u001b[0m\u001b[0;34m.\u001b[0m\u001b[0mappend\u001b[0m\u001b[0;34m(\u001b[0m\u001b[0mStr2\u001b[0m\u001b[0;34m[\u001b[0m\u001b[0mb\u001b[0m\u001b[0;34m]\u001b[0m\u001b[0;34m)\u001b[0m\u001b[0;34m\u001b[0m\u001b[0;34m\u001b[0m\u001b[0m\n\u001b[1;32m     22\u001b[0m     \u001b[0ma\u001b[0m\u001b[0;34m=\u001b[0m\u001b[0ma\u001b[0m\u001b[0;34m+\u001b[0m\u001b[0;36m1\u001b[0m\u001b[0;34m\u001b[0m\u001b[0;34m\u001b[0m\u001b[0m\n",
      "\u001b[0;31mIndexError\u001b[0m: string index out of range"
     ]
    }
   ],
   "source": [
    "# create a third-string made of the first char of s1 then the last char of s2, Next, the second\n",
    "# char of s1 and second last char of s2, and so on. Any leftover chars go at the end of the\n",
    "# result.\n",
    "\n",
    "# Given:\n",
    "# s1 = \"Abc\"\n",
    "# s2 = \"Xyz\"\n",
    "# Expected Output:\n",
    "# AzbycX\n",
    "\n",
    "Str1=input(\"Enter String No 1\")\n",
    "Str2=input(\"Enter String No 2\")\n",
    "\n",
    "# Str3=Str1[0]+Str2[len(Str2)-1]+Str1[1]+Str2[-2]+Str1[2]+Str2[-3]\n",
    "# print(Str3)\n",
    "st3=list()\n",
    "a=0\n",
    "b=len(Str2)-1\n",
    "for e in range (0,len(Str1)+3):\n",
    "    st3.append(Str1[a])\n",
    "    st3.append(Str2[b])\n",
    "    a=a+1\n",
    "    b=b-1\n",
    "st3=\"\".join(st3)\n",
    "print(st3)\n",
    "    "
   ]
  },
  {
   "cell_type": "markdown",
   "id": "1d301cd7",
   "metadata": {
    "id": "1d301cd7"
   },
   "source": [
    "# Q6"
   ]
  },
  {
   "cell_type": "code",
   "execution_count": null,
   "id": "a533f588",
   "metadata": {
    "colab": {
     "base_uri": "https://localhost:8080/"
    },
    "id": "a533f588",
    "outputId": "5ebb50d2-797c-4607-a1e5-15d105a0118c"
   },
   "outputs": [
    {
     "name": "stdout",
     "output_type": "stream",
     "text": [
      "Enter a StringWelcome to USA.     usa awesome, isn't it\n",
      "<re.Match object; span=(9, 12), match='usa'>\n",
      "2\n"
     ]
    }
   ],
   "source": [
    "# Find all occurrences of “USA” from right to left in a given string ignoring the case. also\n",
    "# display the position\n",
    "# Given:\n",
    "\n",
    "# str1 = \"Welcome to USA. usa awesome, isn't it?\n",
    "import re\n",
    "str1=input(\"Enter a String\")\n",
    "\n",
    "str2=str1.replace(\" \" ,\"\")\n",
    "str2=str2.lower()\n",
    "ST=str2.count(\"usa\")\n",
    "#st=re.search(\"usa\",str2)\n",
    "print(st)\n",
    "print(ST)\n",
    "\n",
    "\n",
    "\n"
   ]
  },
  {
   "cell_type": "markdown",
   "id": "E0EWK1oK065G",
   "metadata": {
    "id": "E0EWK1oK065G"
   },
   "source": [
    "# Q7"
   ]
  },
  {
   "cell_type": "code",
   "execution_count": 17,
   "id": "PV8JOccY0-bl",
   "metadata": {
    "id": "PV8JOccY0-bl"
   },
   "outputs": [
    {
     "name": "stdout",
     "output_type": "stream",
     "text": [
      "Enter StringANANAAAANNN\n",
      "substringAN\n",
      "3\n"
     ]
    }
   ],
   "source": [
    "# Find all overlapping occurrences of given substring in given string\n",
    "# Ex.\n",
    "# String = 0111\n",
    "# Substring = 11\n",
    "# Expected answer : 2\n",
    "# String : ANANAAAANNN\n",
    "# Substring: ANA\n",
    "# Expected answer : 2\n",
    "# String : ANANAAAANNN\n",
    "# Substring: AA\n",
    "# Expected answer : 3\n",
    "\n",
    "str1=input(\"Enter String\")\n",
    "str2=input(\"substring\")\n",
    "a=list()\n",
    "for e in range(len(str1)-2):\n",
    "    a.append(str1[e]+str1[e+1])\n",
    "\n",
    "cnt=str1.count(str2)\n",
    "print(cnt)    \n",
    "  "
   ]
  },
  {
   "cell_type": "markdown",
   "id": "4fb0e338",
   "metadata": {},
   "source": [
    "# Q8\n",
    "Given a string in format Emp_name:Emp_id\n",
    "If emp_is is perfect square -- > Print only vowels from emp_name\n",
    "Else if emp_id is prime -- > print alternate characters from emp_name\n",
    "Else if emp_id is odd -- > print sum of ascii values of characters in emp_name\n",
    "Else print None"
   ]
  },
  {
   "cell_type": "code",
   "execution_count": null,
   "id": "11cb08a2",
   "metadata": {},
   "outputs": [],
   "source": [
    "import math\n",
    "id=int(input(\"Enter Employee Id\"))\n",
    "name = input(\"Enter Employee Name\")\n",
    "vowel=\"aeiou\"\n",
    "cnt=0\n",
    "scnt=0\n",
    "add=0\n",
    "b=0\n",
    "#for prime Number\n",
    "for a in range(1,id+1):\n",
    "  cnt=0\n",
    "  for j in range(1,a//2+1):\n",
    "    if(a%j==0):\n",
    "      cnt=cnt+1\n",
    "#print(cnt)\n",
    "\n",
    "for e in range(1,id//2+1):\n",
    "  if e*e==id:\n",
    "    scnt=scnt+1\n",
    "\n",
    "if scnt==1:   \n",
    "  for i in range(len(name)): \n",
    "    if name[i] in vowel:\n",
    "        print(name[i])\n",
    "\n",
    "elif cnt<2:\n",
    "  # for k in range(len(name)//2+1):\n",
    "  #   print(name[k+b])\n",
    "  #   b=b+1\n",
    "  print(name[::2])\n",
    "\n",
    "elif id%2==1:\n",
    "  for l in range(len(name)):\n",
    "    add=add+ord(name[l])\n",
    "    #print(ord(name[l]))\n",
    "  print(add)\n"
   ]
  },
  {
   "cell_type": "markdown",
   "id": "40f27ef9",
   "metadata": {},
   "source": [
    "# Q 9\n",
    "Find all mobile number mentioned in given paragraph of text\n",
    "Mobile number is always a 10 digit number no spaces no special characters\n",
    "Ex. Input= “this is a good number 9089786756 and 8900000000 is a desired number”\n",
    "Expected output: 9089786756 , 8900000000"
   ]
  },
  {
   "cell_type": "code",
   "execution_count": 51,
   "id": "c987a520",
   "metadata": {},
   "outputs": [
    {
     "name": "stdout",
     "output_type": "stream",
     "text": [
      "90897867568900000000\n",
      "['9089786756', '8900000000']\n"
     ]
    }
   ],
   "source": [
    "str1=\"this is a good number 9089786756 and 8900000000 is a desired number\"\n",
    "a=str1.split()\n",
    "li=list()\n",
    "f=0\n",
    "for e in range(len(a)):\n",
    "    for j in range(len(a[e])):\n",
    "        if ord(a[e][j])>=48 and ord(a[e][j])<=57:\n",
    "            f=1\n",
    "        else:\n",
    "            f=0\n",
    "    if f==1:\n",
    "        li.append(a[e])\n",
    "\n",
    "print(li)"
   ]
  },
  {
   "cell_type": "markdown",
   "id": "4ade3e28",
   "metadata": {},
   "source": [
    "# Q 10\n",
    "Count occurrence of spaces, and special characters in given string\n",
    "Ex.\n",
    "Input: Fgh^f #89\n",
    "Expected output :\n",
    "Spaces: 1\n",
    "Special characters: 2"
   ]
  },
  {
   "cell_type": "code",
   "execution_count": 75,
   "id": "b0f09840",
   "metadata": {},
   "outputs": [
    {
     "name": "stdout",
     "output_type": "stream",
     "text": [
      "Spaces : 1\n",
      "Special Character Count: 5\n"
     ]
    }
   ],
   "source": [
    "str1=\"Fgh^f #89ejfkl485948sdnfk46$@#2\"\n",
    "str2=\"^ #!@#$%^&*\"\n",
    "cnt=0\n",
    "scnt=0\n",
    "\n",
    "for e in range(len(str1)):\n",
    "    if str1[e] in str2:\n",
    "        if ord(str1[e])==32:\n",
    "            scnt=scnt+1\n",
    "        else:\n",
    "            cnt=cnt+1\n",
    "\n",
    "print(\"Spaces :\",scnt)\n",
    "print(\"Special Character Count:\",cnt)\n"
   ]
  },
  {
   "cell_type": "markdown",
   "id": "55caacbf",
   "metadata": {},
   "source": [
    "# Q11\n",
    "Given a paragraph count number of words, sentences. Every sentence ends with either . or ? or !\n",
    "Print Count of how many normal sentences ending with . , how many interrogative sentences ( ending\n",
    "with ?) and how many exclamatory sentences ( ending with !).\n",
    "Ex.\n",
    "Input : “I am at CDAC. What about you? I am surprised by current weather!”\n",
    "Normal sentence : 1\n",
    "Interrogative: 1\n",
    "Exclamatory : 1"
   ]
  },
  {
   "cell_type": "code",
   "execution_count": 77,
   "id": "8f03ba7e",
   "metadata": {},
   "outputs": [
    {
     "name": "stdout",
     "output_type": "stream",
     "text": [
      "Normal Sentence: 1\n",
      "Interrogative: 2\n",
      "Exclamatory: 1\n"
     ]
    }
   ],
   "source": [
    "str1=\"I am at CDAC. What about you? I am surprised by current weather!\"\n",
    "li=['.','?','!']\n",
    "\n",
    "d=str1.count(li[0])\n",
    "q=str1.count(li[1])\n",
    "e=str1.count(li[2])\n",
    "\n",
    "print(\"Normal Sentence:\",d)\n",
    "print(\"Interrogative:\",q)\n",
    "print(\"Exclamatory:\",e)\n",
    "\n"
   ]
  },
  {
   "cell_type": "markdown",
   "id": "0a73b068",
   "metadata": {},
   "source": [
    "# Q 12\n",
    "You are given a string S and width w.\n",
    "Your task is to wrap the string into a paragraph of width w\n",
    "\n",
    "Example .\n",
    "String : “ABCDEFGHIJKLIMNOQRSTUVWXYZ”\n",
    "Width: 4\n",
    "Output:\n",
    "ABCD\n",
    "EFGH\n",
    "IJKL\n",
    "IMNO\n",
    "QRST\n",
    "UVWX\n",
    "YZ"
   ]
  },
  {
   "cell_type": "code",
   "execution_count": 110,
   "id": "cf7056fb",
   "metadata": {},
   "outputs": [
    {
     "name": "stdout",
     "output_type": "stream",
     "text": [
      "ABCD EFGH IJKL IMNO QRST UVWX YZ\n"
     ]
    }
   ],
   "source": [
    "str1=\"ABCDEFGHIJKLIMNOQRSTUVWXYZ\"\n",
    "li=[]\n",
    "a=0\n",
    "b=4\n",
    "for e in range(len(str1)//4+1):\n",
    "    li.append(str1[a:b])\n",
    "    b=b+4\n",
    "    a=a+4\n",
    "    \n",
    "bi=\" \".join(li)   \n",
    "print(bi)    "
   ]
  },
  {
   "cell_type": "markdown",
   "id": "twjXvEwTRqjZ",
   "metadata": {
    "id": "twjXvEwTRqjZ"
   },
   "source": [
    "# Lab_Assignments"
   ]
  },
  {
   "cell_type": "markdown",
   "id": "xW1H5FJaSHLi",
   "metadata": {
    "id": "xW1H5FJaSHLi"
   },
   "source": [
    "# Q1"
   ]
  },
  {
   "cell_type": "code",
   "execution_count": null,
   "id": "6sFunUA2SI1-",
   "metadata": {
    "colab": {
     "base_uri": "https://localhost:8080/"
    },
    "id": "6sFunUA2SI1-",
    "outputId": "abca50a5-92a9-44f5-f3b8-71f21270e0b5"
   },
   "outputs": [
    {
     "name": "stdout",
     "output_type": "stream",
     "text": [
      "Enter Monthjan\n",
      "Enter day4\n",
      "S    M    T    W    T    F    S\n",
      "                    1    2    3    \n",
      "4    5    6    7    8    9    10   \n",
      "11   12   13   14   15   16   17   \n",
      "18   19   20   21   22   23   24   \n",
      "25   26   27   28   29   30   31   \n"
     ]
    }
   ],
   "source": [
    "aq=['jan','mar','may','jul','aug','oct','dec'] \n",
    "feb_list=['feb'] \n",
    "b=['apr','jun','sep','nov']\n",
    "totalDays=0\n",
    "\n",
    "month=input(\"Enter Month\")\n",
    "n=int(input(\"Enter day\"))\n",
    "print(\"S    M    T    W    T    F    S\" )\n",
    "if month in aq:\n",
    "  totalDays=31\n",
    "elif month in b:\n",
    "  totalDays=30\n",
    "elif month==2:\n",
    "  totalDays=28\n",
    "else:\n",
    "  print(\"Invalid Input\")\n",
    "  \n",
    "#for j in range(0,n+1):\n",
    "    \n",
    "print(\"     \"*n,end=\"\")\n",
    "a=n\n",
    "for e in range(1 , totalDays+1):\n",
    "  if e>9:\n",
    "    print(e,\" \",end=\" \")\n",
    "  else:\n",
    "    print(e,\"  \",end=\" \")\n",
    "  a=a+1\n",
    "  if a>6:\n",
    "   print(\"\",end='\\n')\n",
    "   a=0\n"
   ]
  },
  {
   "cell_type": "markdown",
   "id": "5g4ZPWP4TC7u",
   "metadata": {
    "id": "5g4ZPWP4TC7u"
   },
   "source": [
    "# Q2"
   ]
  },
  {
   "cell_type": "code",
   "execution_count": null,
   "id": "UbXv6-xwTE3T",
   "metadata": {
    "colab": {
     "base_uri": "https://localhost:8080/"
    },
    "id": "UbXv6-xwTE3T",
    "outputId": "8842b24d-5a57-4d71-c706-cb94bab64520"
   },
   "outputs": [
    {
     "name": "stdout",
     "output_type": "stream",
     "text": [
      "Enter Value Using , Seprator3,4,2,8\n",
      "['3', '4', '2', '8']\n",
      "***\n",
      "****\n",
      "**\n",
      "********\n"
     ]
    }
   ],
   "source": [
    "# Historam\n",
    "s=input(\"Enter Value Using , Seprator\")\n",
    "a=s.split(\",\")\n",
    "print(a)\n",
    "\n",
    "for e in range(len(a)):\n",
    "  print(\"*\"*int(a[e]) )\n",
    "  "
   ]
  },
  {
   "cell_type": "markdown",
   "id": "Wcjmnu7HTKWk",
   "metadata": {
    "id": "Wcjmnu7HTKWk"
   },
   "source": [
    "# Q3"
   ]
  },
  {
   "cell_type": "code",
   "execution_count": null,
   "id": "ev7WmtYpTL1t",
   "metadata": {
    "colab": {
     "base_uri": "https://localhost:8080/"
    },
    "id": "ev7WmtYpTL1t",
    "outputId": "2ecaff23-f90a-4f6c-ef2e-bd40fbfecd97"
   },
   "outputs": [
    {
     "name": "stdout",
     "output_type": "stream",
     "text": [
      "Enter ValueDammit, I'm mad!\n",
      "Palindrome\n"
     ]
    }
   ],
   "source": [
    "a=list()\n",
    "s=input(\"Enter Value\")\n",
    "St=s.upper()\n",
    "for e in range(len(St)):\n",
    "  if ord(St[e])>=65 and ord(St[e])<=90:\n",
    "    a.append(St[e])\n",
    "    \n",
    "vb=\"\".join(a)\n",
    "if vb==vb[::-1]:\n",
    "  print(\"Palindrome\")\n",
    "else:\n",
    "  print(\"Not Palindrome\")\n",
    "\n"
   ]
  },
  {
   "cell_type": "markdown",
   "id": "TguP0NWATPas",
   "metadata": {
    "id": "TguP0NWATPas"
   },
   "source": [
    "# Q4"
   ]
  },
  {
   "cell_type": "code",
   "execution_count": null,
   "id": "swjtUl5PTQtG",
   "metadata": {
    "colab": {
     "base_uri": "https://localhost:8080/"
    },
    "id": "swjtUl5PTQtG",
    "outputId": "63c0b336-c840-4eb1-b1cd-5c12c7bb612b"
   },
   "outputs": [
    {
     "name": "stdout",
     "output_type": "stream",
     "text": [
      "Enter a StringThe quick brown fox jumps over the lazy dog\n",
      "{'D', 'S', 'V', 'O', 'X', 'A', 'M', 'P', 'N', 'C', 'J', 'G', 'H', 'I', 'L', 'Q', 'T', 'U', 'E', 'W', 'K', 'F', 'R', 'Y', 'B', 'Z'}\n",
      "String is Panagram\n"
     ]
    }
   ],
   "source": [
    "a=input(\"Enter a String\")\n",
    "z=set()\n",
    "a1=a.upper()\n",
    "for e in range (len(a1)):\n",
    "  if ord(a1[e])>=65 and ord(a1[e])<=90:\n",
    "    z.add(a1[e])\n",
    "print(z)\n",
    "\n",
    "\n",
    "print(\"String is Panagram\") if len(z)==26 else print(\"Not in Pandgram\") \n",
    "# if len(z)==26:\n",
    "#   print(\"String is Panagram\")\n",
    "# else:\n",
    "#   print(\"Not in Pandgram\")\n"
   ]
  },
  {
   "cell_type": "markdown",
   "id": "421srE6NTdoc",
   "metadata": {
    "id": "421srE6NTdoc"
   },
   "source": [
    "# Q5"
   ]
  },
  {
   "cell_type": "code",
   "execution_count": null,
   "id": "O5p85j_4Tfqz",
   "metadata": {
    "colab": {
     "base_uri": "https://localhost:8080/"
    },
    "id": "O5p85j_4Tfqz",
    "outputId": "a8d1bdf2-879b-45df-a322-6a17aefbd925"
   },
   "outputs": [
    {
     "name": "stdout",
     "output_type": "stream",
     "text": [
      "Take 3 numbers from user as comma separated values7,6,8\n",
      "14\n"
     ]
    }
   ],
   "source": [
    "num = input(\"Take 3 numbers from user as comma separated values\")\n",
    "values = num.split(\",\")\n",
    "a=100\n",
    "for e in range(3):\n",
    "  if values[e]=='7':\n",
    "    a=e\n",
    "if a==2:\n",
    "  print(\"-1\")\n",
    "elif a==1:\n",
    "  print(values[2])\n",
    "elif a==0:\n",
    "  print((int(values[1])+int(values[2])))\n",
    "else:\n",
    "  print((int(values[0])+int(values[1])+int(values[2])))"
   ]
  },
  {
   "cell_type": "markdown",
   "id": "9N7SNjkFc_zq",
   "metadata": {
    "id": "9N7SNjkFc_zq"
   },
   "source": [
    "# # Lab_Assignment(26-11-2022)"
   ]
  },
  {
   "cell_type": "code",
   "execution_count": null,
   "id": "KAwEoLmoc72J",
   "metadata": {
    "colab": {
     "base_uri": "https://localhost:8080/"
    },
    "id": "KAwEoLmoc72J",
    "outputId": "1f1853c8-baae-4c78-af89-f68290b34708"
   },
   "outputs": [
    {
     "name": "stdout",
     "output_type": "stream",
     "text": [
      "Enter Employee Id15\n",
      "Enter Employee Namevijay\n",
      "547\n"
     ]
    }
   ],
   "source": [
    "import math\n",
    "id=int(input(\"Enter Employee Id\"))\n",
    "name = input(\"Enter Employee Name\")\n",
    "vowel=\"aeiou\"\n",
    "cnt=0\n",
    "scnt=0\n",
    "add=0\n",
    "b=0\n",
    "#for prime Number\n",
    "for a in range(1,id+1):\n",
    "  cnt=0\n",
    "  for j in range(1,a//2+1):\n",
    "    if(a%j==0):\n",
    "      cnt=cnt+1\n",
    "#print(cnt)\n",
    "\n",
    "for e in range(1,id//2+1):\n",
    "  if e*e==id:\n",
    "    scnt=scnt+1\n",
    "\n",
    "if scnt==1:   \n",
    "  for i in range(len(name)): \n",
    "    if name[i] in vowel:\n",
    "        print(name[i])\n",
    "\n",
    "elif cnt<2:\n",
    "  # for k in range(len(name)//2+1):\n",
    "  #   print(name[k+b])\n",
    "  #   b=b+1\n",
    "  print(name[::2])\n",
    "\n",
    "elif id%2==1:\n",
    "  for l in range(len(name)):\n",
    "    add=add+ord(name[l])\n",
    "    #print(ord(name[l]))\n",
    "  print(add)\n",
    "\n",
    "    \n",
    "\n",
    "\n",
    "\n",
    "  \n",
    "\n",
    "\n",
    "\n",
    "  \n",
    "\n"
   ]
  },
  {
   "cell_type": "code",
   "execution_count": null,
   "id": "JmBjBDzWiW0D",
   "metadata": {
    "id": "JmBjBDzWiW0D"
   },
   "outputs": [],
   "source": []
  }
 ],
 "metadata": {
  "colab": {
   "provenance": []
  },
  "kernelspec": {
   "display_name": "Python 3 (ipykernel)",
   "language": "python",
   "name": "python3"
  },
  "language_info": {
   "codemirror_mode": {
    "name": "ipython",
    "version": 3
   },
   "file_extension": ".py",
   "mimetype": "text/x-python",
   "name": "python",
   "nbconvert_exporter": "python",
   "pygments_lexer": "ipython3",
   "version": "3.9.13"
  }
 },
 "nbformat": 4,
 "nbformat_minor": 5
}
