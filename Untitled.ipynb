{
 "cells": [
  {
   "cell_type": "code",
   "execution_count": 1,
   "id": "6339624d",
   "metadata": {},
   "outputs": [
    {
     "name": "stdout",
     "output_type": "stream",
     "text": [
      "Requirement already satisfied: pandas_datareader in c:\\users\\s\\anaconda3\\lib\\site-packages (0.10.0)\n",
      "Requirement already satisfied: requests>=2.19.0 in c:\\users\\s\\anaconda3\\lib\\site-packages (from pandas_datareader) (2.28.1)\n",
      "Requirement already satisfied: pandas>=0.23 in c:\\users\\s\\anaconda3\\lib\\site-packages (from pandas_datareader) (1.4.4)\n",
      "Requirement already satisfied: lxml in c:\\users\\s\\anaconda3\\lib\\site-packages (from pandas_datareader) (4.9.1)\n",
      "Requirement already satisfied: numpy>=1.18.5 in c:\\users\\s\\anaconda3\\lib\\site-packages (from pandas>=0.23->pandas_datareader) (1.21.5)\n",
      "Requirement already satisfied: pytz>=2020.1 in c:\\users\\s\\anaconda3\\lib\\site-packages (from pandas>=0.23->pandas_datareader) (2022.7.1)\n",
      "Requirement already satisfied: python-dateutil>=2.8.1 in c:\\users\\s\\anaconda3\\lib\\site-packages (from pandas>=0.23->pandas_datareader) (2.8.2)\n",
      "Requirement already satisfied: idna<4,>=2.5 in c:\\users\\s\\anaconda3\\lib\\site-packages (from requests>=2.19.0->pandas_datareader) (3.3)\n",
      "Requirement already satisfied: urllib3<1.27,>=1.21.1 in c:\\users\\s\\anaconda3\\lib\\site-packages (from requests>=2.19.0->pandas_datareader) (1.26.11)\n",
      "Requirement already satisfied: charset-normalizer<3,>=2 in c:\\users\\s\\anaconda3\\lib\\site-packages (from requests>=2.19.0->pandas_datareader) (2.0.4)\n",
      "Requirement already satisfied: certifi>=2017.4.17 in c:\\users\\s\\anaconda3\\lib\\site-packages (from requests>=2.19.0->pandas_datareader) (2022.9.14)\n",
      "Requirement already satisfied: six>=1.5 in c:\\users\\s\\anaconda3\\lib\\site-packages (from python-dateutil>=2.8.1->pandas>=0.23->pandas_datareader) (1.16.0)\n"
     ]
    }
   ],
   "source": [
    "!pip install pandas_datareader"
   ]
  },
  {
   "cell_type": "code",
   "execution_count": 2,
   "id": "074f0bfb",
   "metadata": {},
   "outputs": [],
   "source": [
    "import datetime\n",
    "import pandas as pd \n",
    "import pandas_datareader as pdr\n",
    "import yfinance as yf\n",
    "from yahoofinancials import YahooFinancials\n",
    "import matplotlib.pyplot as plt"
   ]
  },
  {
   "cell_type": "code",
   "execution_count": 3,
   "id": "22e0a9c1",
   "metadata": {},
   "outputs": [],
   "source": [
    "start_date = datetime.datetime(2000,1,1)\n",
    "end_date = datetime.datetime(2023,2,17)"
   ]
  },
  {
   "cell_type": "code",
   "execution_count": 4,
   "id": "a48421a5",
   "metadata": {},
   "outputs": [],
   "source": [
    "quotes = pd.read_csv(\"quotes.csv\")"
   ]
  },
  {
   "cell_type": "code",
   "execution_count": 5,
   "id": "0b0b4aed",
   "metadata": {},
   "outputs": [],
   "source": [
    "stock_symbol = quotes['Symbol']"
   ]
  },
  {
   "cell_type": "code",
   "execution_count": 6,
   "id": "e198f5d3",
   "metadata": {},
   "outputs": [],
   "source": [
    "del quotes"
   ]
  },
  {
   "cell_type": "code",
   "execution_count": 7,
   "id": "9942ae4e",
   "metadata": {},
   "outputs": [],
   "source": [
    "stock_symbols = stock_symbol.to_list()"
   ]
  },
  {
   "cell_type": "code",
   "execution_count": 8,
   "id": "58a2bf2a",
   "metadata": {},
   "outputs": [
    {
     "data": {
      "text/plain": [
       "'BAJFINANCE.NS'"
      ]
     },
     "execution_count": 8,
     "metadata": {},
     "output_type": "execute_result"
    }
   ],
   "source": [
    "stock_symbols[0]"
   ]
  },
  {
   "cell_type": "code",
   "execution_count": 16,
   "id": "af18e009",
   "metadata": {},
   "outputs": [],
   "source": [
    "for i in stock_symbols:\n",
    "    df=yf.download(i,start=start_date,end=end_date,progress=False)\n",
    "    df = pd.DataFrame(df)\n",
    "    pd.DataFrame.to_csv(df,\"E:/desktop/Project_data/\"+i+\".csv\")"
   ]
  },
  {
   "cell_type": "code",
   "execution_count": 17,
   "id": "766305e2",
   "metadata": {},
   "outputs": [
    {
     "data": {
      "text/plain": [
       "['E:/desktop/Project_data\\\\AXISBANK.NS.csv',\n",
       " 'E:/desktop/Project_data\\\\BAJFINANCE.NS.csv',\n",
       " 'E:/desktop/Project_data\\\\CIPLA.NS.csv',\n",
       " 'E:/desktop/Project_data\\\\HINDUNILVR.NS.csv',\n",
       " 'E:/desktop/Project_data\\\\INFY.csv',\n",
       " 'E:/desktop/Project_data\\\\RELIANCE.NS.csv',\n",
       " 'E:/desktop/Project_data\\\\SBIN.NS.csv',\n",
       " 'E:/desktop/Project_data\\\\SUNPHARMA.NS.csv',\n",
       " 'E:/desktop/Project_data\\\\TATAMOTORS.NS.csv',\n",
       " 'E:/desktop/Project_data\\\\WIT.csv']"
      ]
     },
     "execution_count": 17,
     "metadata": {},
     "output_type": "execute_result"
    }
   ],
   "source": [
    "import glob\n",
    "path = \"E:/desktop/Project_data/\"\n",
    "all_files = glob.glob(path + \"*.csv\")\n",
    "all_files"
   ]
  },
  {
   "cell_type": "code",
   "execution_count": 18,
   "id": "f80deb50",
   "metadata": {},
   "outputs": [
    {
     "name": "stdout",
     "output_type": "stream",
     "text": [
      "Requirement already satisfied: arch in c:\\users\\s\\anaconda3\\lib\\site-packages (5.3.1)\n",
      "Requirement already satisfied: property-cached>=1.6.4 in c:\\users\\s\\anaconda3\\lib\\site-packages (from arch) (1.6.4)\n",
      "Requirement already satisfied: numpy>=1.17 in c:\\users\\s\\anaconda3\\lib\\site-packages (from arch) (1.21.5)\n",
      "Requirement already satisfied: scipy>=1.3 in c:\\users\\s\\anaconda3\\lib\\site-packages (from arch) (1.9.1)\n",
      "Requirement already satisfied: pandas>=1.0 in c:\\users\\s\\anaconda3\\lib\\site-packages (from arch) (1.4.4)\n",
      "Requirement already satisfied: statsmodels>=0.11 in c:\\users\\s\\anaconda3\\lib\\site-packages (from arch) (0.13.2)\n",
      "Requirement already satisfied: pytz>=2020.1 in c:\\users\\s\\anaconda3\\lib\\site-packages (from pandas>=1.0->arch) (2022.7.1)\n",
      "Requirement already satisfied: python-dateutil>=2.8.1 in c:\\users\\s\\anaconda3\\lib\\site-packages (from pandas>=1.0->arch) (2.8.2)\n",
      "Requirement already satisfied: patsy>=0.5.2 in c:\\users\\s\\anaconda3\\lib\\site-packages (from statsmodels>=0.11->arch) (0.5.2)\n",
      "Requirement already satisfied: packaging>=21.3 in c:\\users\\s\\anaconda3\\lib\\site-packages (from statsmodels>=0.11->arch) (21.3)\n",
      "Requirement already satisfied: pyparsing!=3.0.5,>=2.0.2 in c:\\users\\s\\anaconda3\\lib\\site-packages (from packaging>=21.3->statsmodels>=0.11->arch) (3.0.9)\n",
      "Requirement already satisfied: six in c:\\users\\s\\anaconda3\\lib\\site-packages (from patsy>=0.5.2->statsmodels>=0.11->arch) (1.16.0)\n"
     ]
    }
   ],
   "source": [
    "!pip install arch"
   ]
  },
  {
   "cell_type": "code",
   "execution_count": 19,
   "id": "21e0c34c",
   "metadata": {},
   "outputs": [],
   "source": [
    "from arch import arch_model\n",
    "import numpy as np"
   ]
  },
  {
   "cell_type": "code",
   "execution_count": 20,
   "id": "393621f7",
   "metadata": {},
   "outputs": [],
   "source": [
    "from arch.univariate import ARCH,APARCH,GARCH,FIGARCH,EGARCH,HARCH,arch_model"
   ]
  },
  {
   "cell_type": "code",
   "execution_count": 28,
   "id": "3d62675a",
   "metadata": {},
   "outputs": [
    {
     "ename": "TypeError",
     "evalue": "arch_model() got an unexpected keyword argument 'data'",
     "output_type": "error",
     "traceback": [
      "\u001b[1;31m---------------------------------------------------------------------------\u001b[0m",
      "\u001b[1;31mTypeError\u001b[0m                                 Traceback (most recent call last)",
      "\u001b[1;32m~\\AppData\\Local\\Temp\\ipykernel_10204\\2960889975.py\u001b[0m in \u001b[0;36m<module>\u001b[1;34m\u001b[0m\n\u001b[1;32m----> 1\u001b[1;33m models_arch = {\"arch_model_t\" : arch_model(data=data, mean = 'constant', vol='Arch', p=1, dist='t'),\n\u001b[0m\u001b[0;32m      2\u001b[0m                     \u001b[1;34m\"Garch_model_t\"\u001b[0m \u001b[1;33m:\u001b[0m \u001b[0march_model\u001b[0m\u001b[1;33m(\u001b[0m\u001b[0mdata\u001b[0m\u001b[1;33m=\u001b[0m\u001b[0mdata\u001b[0m\u001b[1;33m,\u001b[0m \u001b[0mmean\u001b[0m \u001b[1;33m=\u001b[0m \u001b[1;34m'constant'\u001b[0m\u001b[1;33m,\u001b[0m \u001b[0mvol\u001b[0m\u001b[1;33m=\u001b[0m\u001b[1;34m'GARCH'\u001b[0m\u001b[1;33m,\u001b[0m \u001b[0mp\u001b[0m\u001b[1;33m=\u001b[0m\u001b[1;36m1\u001b[0m\u001b[1;33m,\u001b[0m\u001b[0mq\u001b[0m\u001b[1;33m=\u001b[0m\u001b[1;36m1\u001b[0m\u001b[1;33m,\u001b[0m \u001b[0mdist\u001b[0m\u001b[1;33m=\u001b[0m\u001b[1;34m't'\u001b[0m\u001b[1;33m)\u001b[0m\u001b[1;33m,\u001b[0m\u001b[1;33m\u001b[0m\u001b[1;33m\u001b[0m\u001b[0m\n\u001b[0;32m      3\u001b[0m                    \u001b[1;34m\"gjr_garch_t\"\u001b[0m\u001b[1;33m:\u001b[0m \u001b[0march_model\u001b[0m\u001b[1;33m(\u001b[0m\u001b[0mdata\u001b[0m\u001b[1;33m=\u001b[0m\u001b[0mdata\u001b[0m\u001b[1;33m,\u001b[0m\u001b[0mmean\u001b[0m \u001b[1;33m=\u001b[0m \u001b[1;34m'constant'\u001b[0m \u001b[1;33m,\u001b[0m \u001b[0mvol\u001b[0m\u001b[1;33m=\u001b[0m\u001b[1;34m'Garch'\u001b[0m\u001b[1;33m,\u001b[0m \u001b[0mp\u001b[0m\u001b[1;33m=\u001b[0m\u001b[1;36m1\u001b[0m\u001b[1;33m,\u001b[0m \u001b[0mo\u001b[0m\u001b[1;33m=\u001b[0m\u001b[1;36m1\u001b[0m\u001b[1;33m,\u001b[0m \u001b[0mq\u001b[0m\u001b[1;33m=\u001b[0m\u001b[1;36m1\u001b[0m\u001b[1;33m,\u001b[0m \u001b[0mdist\u001b[0m\u001b[1;33m=\u001b[0m\u001b[1;34m't'\u001b[0m\u001b[1;33m)\u001b[0m\u001b[1;33m,\u001b[0m\u001b[1;33m\u001b[0m\u001b[1;33m\u001b[0m\u001b[0m\n\u001b[0;32m      4\u001b[0m                  \u001b[1;34m\"FI_garch_t\"\u001b[0m\u001b[1;33m:\u001b[0m \u001b[0march_model\u001b[0m\u001b[1;33m(\u001b[0m\u001b[0mdata\u001b[0m\u001b[1;33m=\u001b[0m\u001b[0mdata\u001b[0m\u001b[1;33m,\u001b[0m\u001b[0mmean\u001b[0m \u001b[1;33m=\u001b[0m \u001b[1;34m'constant'\u001b[0m \u001b[1;33m,\u001b[0m \u001b[0mvol\u001b[0m\u001b[1;33m=\u001b[0m\u001b[1;34m'FIGARCH'\u001b[0m\u001b[1;33m,\u001b[0m\u001b[0mdist\u001b[0m\u001b[1;33m=\u001b[0m\u001b[1;34m't'\u001b[0m\u001b[1;33m)\u001b[0m\u001b[1;33m,\u001b[0m\u001b[1;33m\u001b[0m\u001b[1;33m\u001b[0m\u001b[0m\n\u001b[0;32m      5\u001b[0m                         \"Egarch_t\": arch_model(data=data,mean = 'constant' , vol='EGARCH',p=1,q=1,o=1,dist='t')}\n",
      "\u001b[1;31mTypeError\u001b[0m: arch_model() got an unexpected keyword argument 'data'"
     ]
    }
   ],
   "source": [
    "models_arch = {\"arch_model_t\" : arch_model(data=data, mean = 'constant', vol='Arch', p=1, dist='t'),\n",
    "                    \"Garch_model_t\" : arch_model(data=data, mean = 'constant', vol='GARCH', p=1,q=1, dist='t'),\n",
    "                   \"gjr_garch_t\": arch_model(data=data,mean = 'constant' , vol='Garch', p=1, o=1, q=1, dist='t'),\n",
    "                 \"FI_garch_t\": arch_model(data=data,mean = 'constant' , vol='FIGARCH',dist='t'),\n",
    "                        \"Egarch_t\": arch_model(data=data,mean = 'constant' , vol='EGARCH',p=1,q=1,o=1,dist='t')}"
   ]
  },
  {
   "cell_type": "code",
   "execution_count": 27,
   "id": "b42cbb36",
   "metadata": {},
   "outputs": [
    {
     "ename": "NameError",
     "evalue": "name 'models_arch' is not defined",
     "output_type": "error",
     "traceback": [
      "\u001b[1;31m---------------------------------------------------------------------------\u001b[0m",
      "\u001b[1;31mNameError\u001b[0m                                 Traceback (most recent call last)",
      "\u001b[1;32m~\\AppData\\Local\\Temp\\ipykernel_10204\\3019628077.py\u001b[0m in \u001b[0;36m<module>\u001b[1;34m\u001b[0m\n\u001b[0;32m      8\u001b[0m     \u001b[0mcnt\u001b[0m\u001b[1;33m=\u001b[0m\u001b[1;36m0\u001b[0m\u001b[1;33m\u001b[0m\u001b[1;33m\u001b[0m\u001b[0m\n\u001b[0;32m      9\u001b[0m     \u001b[0mmini\u001b[0m \u001b[1;33m=\u001b[0m\u001b[1;36m0\u001b[0m\u001b[1;33m\u001b[0m\u001b[1;33m\u001b[0m\u001b[0m\n\u001b[1;32m---> 10\u001b[1;33m     \u001b[1;32mfor\u001b[0m \u001b[0mname\u001b[0m \u001b[1;32min\u001b[0m \u001b[0mmodels_arch\u001b[0m\u001b[1;33m:\u001b[0m\u001b[1;33m\u001b[0m\u001b[1;33m\u001b[0m\u001b[0m\n\u001b[0m\u001b[0;32m     11\u001b[0m         \u001b[0mmodel\u001b[0m \u001b[1;33m=\u001b[0m \u001b[0mmodels_arch\u001b[0m\u001b[1;33m.\u001b[0m\u001b[0mget\u001b[0m\u001b[1;33m(\u001b[0m\u001b[0mname\u001b[0m\u001b[1;33m)\u001b[0m\u001b[1;33m\u001b[0m\u001b[1;33m\u001b[0m\u001b[0m\n\u001b[0;32m     12\u001b[0m         \u001b[0march_1\u001b[0m \u001b[1;33m=\u001b[0m \u001b[0mmodel\u001b[0m\u001b[1;33m.\u001b[0m\u001b[0mfit\u001b[0m\u001b[1;33m(\u001b[0m\u001b[1;33m)\u001b[0m\u001b[1;33m\u001b[0m\u001b[1;33m\u001b[0m\u001b[0m\n",
      "\u001b[1;31mNameError\u001b[0m: name 'models_arch' is not defined"
     ]
    }
   ],
   "source": [
    "model_list=[]\n",
    "for filename in all_files:\n",
    "    data = pd.read_csv(filename)\n",
    "    data['Rt'] = data.Close.pct_change()\n",
    "    data = data.Rt * 100\n",
    "    data = [v for v in data if not np.isnan(v) and not np.isinf(v)]\n",
    "    bic_dict = dict()\n",
    "    cnt=0\n",
    "    mini =0\n",
    "    for name in models_arch:\n",
    "        model = models_arch.get(name)\n",
    "        arch_1 = model.fit() \n",
    "        \n",
    "        if cnt == 0:\n",
    "            mini = arch_1.aic\n",
    "            \n",
    "        cnt=cnt+1\n",
    "        \n",
    "        if arch_1.aic<=mini :\n",
    "            mini = arch_1.aic\n",
    "            bic_dict.clear()\n",
    "            bic_dict[name] = arch_1.aic \n",
    "        print(\"aic of model name is {}\".format(arch_1.aic))\n",
    "    model_list.append(bic_dict)\n",
    "    print(\"minimum value /stocks \",bic_dict)\n",
    "    bic_dict = 0\n",
    "    "
   ]
  },
  {
   "cell_type": "code",
   "execution_count": null,
   "id": "ac6aadce",
   "metadata": {},
   "outputs": [],
   "source": []
  },
  {
   "cell_type": "code",
   "execution_count": null,
   "id": "cdb38f54",
   "metadata": {},
   "outputs": [],
   "source": []
  },
  {
   "cell_type": "code",
   "execution_count": null,
   "id": "ca64cb7e",
   "metadata": {},
   "outputs": [],
   "source": [
    "model_list\n"
   ]
  },
  {
   "cell_type": "code",
   "execution_count": null,
   "id": "6cf95ecf",
   "metadata": {},
   "outputs": [],
   "source": [
    "stock_df.shape"
   ]
  },
  {
   "cell_type": "code",
   "execution_count": null,
   "id": "faf522ab",
   "metadata": {},
   "outputs": [],
   "source": [
    "stock_df.head(-1)"
   ]
  },
  {
   "cell_type": "code",
   "execution_count": null,
   "id": "2f726c3d",
   "metadata": {},
   "outputs": [],
   "source": []
  }
 ],
 "metadata": {
  "kernelspec": {
   "display_name": "Python 3 (ipykernel)",
   "language": "python",
   "name": "python3"
  },
  "language_info": {
   "codemirror_mode": {
    "name": "ipython",
    "version": 3
   },
   "file_extension": ".py",
   "mimetype": "text/x-python",
   "name": "python",
   "nbconvert_exporter": "python",
   "pygments_lexer": "ipython3",
   "version": "3.9.13"
  }
 },
 "nbformat": 4,
 "nbformat_minor": 5
}
