{
 "cells": [
  {
   "cell_type": "markdown",
   "id": "2ba251e8",
   "metadata": {},
   "source": [
    "# Q1\n",
    "Write programs using lists in python\n",
    "1. Reverse a given list in Python\n",
    "aLsit = [100, 200, 300, 400, 500]\n",
    "output:\n",
    "[500, 400, 300, 200, 100]"
   ]
  },
  {
   "cell_type": "code",
   "execution_count": 2,
   "id": "951db0e7",
   "metadata": {},
   "outputs": [
    {
     "data": {
      "text/plain": [
       "[500, 400, 300, 200, 100]"
      ]
     },
     "execution_count": 2,
     "metadata": {},
     "output_type": "execute_result"
    }
   ],
   "source": [
    "aLsit = [100, 200, 300, 400, 500] \n",
    "rlist=aLsit[::-1]\n",
    "rlist"
   ]
  },
  {
   "cell_type": "markdown",
   "id": "019bfeaf",
   "metadata": {},
   "source": [
    "# Q 2\n",
    "Concatenate two lists index-wise\n",
    "Given:\n",
    "list1 = [\"M\", \"na\", \"i\", \"Raj\"]\n",
    "list2 = [\"y\", \"me\", \"s\", \"esh\"]"
   ]
  },
  {
   "cell_type": "code",
   "execution_count": 7,
   "id": "dd599fea",
   "metadata": {},
   "outputs": [
    {
     "name": "stdout",
     "output_type": "stream",
     "text": [
      "['My', 'name', 'is', 'Rajesh']\n"
     ]
    }
   ],
   "source": [
    "list1 = [\"M\", \"na\", \"i\", \"Raj\"]\n",
    "list2 = [\"y\", \"me\", \"s\", \"esh\"]\n",
    "\n",
    "list3=[]\n",
    "for e in range (len(list1)):\n",
    "    list3.append(list1[e]+list2[e])\n",
    "print(list3)"
   ]
  },
  {
   "cell_type": "markdown",
   "id": "0eb4f19f",
   "metadata": {},
   "source": [
    "# Q 3\n",
    "Given a Python list of numbers. Turn every item of a list into its square\n",
    "aList = [1, 2, 3, 4, 5, 6, 7]\n",
    "output:\n",
    "[1, 4, 9, 16, 25, 36, 49]"
   ]
  },
  {
   "cell_type": "code",
   "execution_count": 12,
   "id": "d981e1fc",
   "metadata": {},
   "outputs": [
    {
     "name": "stdout",
     "output_type": "stream",
     "text": [
      "[1, 4, 9, 16, 25, 36, 49]\n"
     ]
    }
   ],
   "source": [
    "aList = [1, 2, 3, 4, 5, 6, 7] \n",
    "b=map(lambda x:x**2,aList)\n",
    "print(list(b))"
   ]
  },
  {
   "cell_type": "markdown",
   "id": "d2460a5c",
   "metadata": {},
   "source": [
    "# Q4\n",
    "Concatenate two lists in the following order\n",
    "list1 = [\"Hello \", \"Welcome \"]\n",
    "list2 = [\"Students\", \"Sir\"]\n",
    "output:\n",
    "['Hello Students ', 'Hello Sir', 'welcome Students ', 'Welcome Sir']"
   ]
  },
  {
   "cell_type": "code",
   "execution_count": 17,
   "id": "ff7d7089",
   "metadata": {},
   "outputs": [
    {
     "name": "stdout",
     "output_type": "stream",
     "text": [
      "['Hello Students', 'Hello Sir', 'Welcome Students', 'Welcome Sir']\n"
     ]
    }
   ],
   "source": [
    "list1 = [\"Hello \", \"Welcome \"]\n",
    "list2 = [\"Students\", \"Sir\"]\n",
    "list3=[]\n",
    "for e in range(len(list1)):\n",
    "    for j in range(len(list2)):\n",
    "        list3.append(list1[e]+list2[j])\n",
    "print(list3)"
   ]
  },
  {
   "cell_type": "markdown",
   "id": "145c86c6",
   "metadata": {},
   "source": [
    "# Q5\n",
    "Given a two Python list. Iterate both lists simultaneously such that list1 should display item\n",
    "in original order and list2 in reverse order\n",
    "list1 = [10, 20, 30, 40]\n",
    "list2 = [100, 200, 300, 400]\n",
    "output:\n",
    "10 400\n",
    "20 300\n",
    "30 200\n",
    "40 100"
   ]
  },
  {
   "cell_type": "code",
   "execution_count": 27,
   "id": "b8f1e38b",
   "metadata": {},
   "outputs": [
    {
     "name": "stdout",
     "output_type": "stream",
     "text": [
      "[10, 400, 20, 300, 30, 200, 40, 100]\n"
     ]
    }
   ],
   "source": [
    "list1 = [10, 20, 30, 40]\n",
    "list2 = [100, 200, 300, 400]\n",
    "list3=[]\n",
    "b=len(list2)-1\n",
    "for e in range(len(list1)):\n",
    "    list3.append(list1[e])\n",
    "    list3.append(list2[b])\n",
    "    b=b-1\n",
    "\n",
    "print(list3)\n",
    "    "
   ]
  },
  {
   "cell_type": "markdown",
   "id": "6ea1fef8",
   "metadata": {},
   "source": [
    "# Q6\n",
    "Remove empty strings from the list of strings\n",
    "\n",
    "list1 = [\"Ashish\", \"\", \"Atharva\", \"Amit\", \"\", \"Revati\"]\n",
    "output:\n",
    "[\"Ashish\", \"Atharva\", \"Amit\", \"Revati\"]"
   ]
  },
  {
   "cell_type": "code",
   "execution_count": 28,
   "id": "d65aa81f",
   "metadata": {},
   "outputs": [
    {
     "name": "stdout",
     "output_type": "stream",
     "text": [
      "['Ashish', 'Atharva', 'Amit', 'Revati']\n"
     ]
    }
   ],
   "source": [
    "list1 = [\"Ashish\", \"\", \"Atharva\", \"Amit\", \"\", \"Revati\"]\n",
    "list2=[]\n",
    "for e in range(len(list1)):\n",
    "    if len(list1[e])!=0:\n",
    "        list2.append(list1[e])\n",
    "print(list2)\n",
    "        \n"
   ]
  },
  {
   "cell_type": "markdown",
   "id": "c0e649b9",
   "metadata": {},
   "source": [
    "# Q7\n",
    "Add item 7000 after 6000 in the following Python List\n",
    "list1 = [10, 20, [300, 400, [5000, 6000], 500], 30, 40]\n",
    "output:\n",
    "[10, 20, [300, 400, [5000, 6000, 7000], 500], 30, 40]"
   ]
  },
  {
   "cell_type": "code",
   "execution_count": 33,
   "id": "dbd697c5",
   "metadata": {},
   "outputs": [
    {
     "data": {
      "text/plain": [
       "[10, 20, [300, 400, [5000, 6000, 7000], 500], 30, 40]"
      ]
     },
     "execution_count": 33,
     "metadata": {},
     "output_type": "execute_result"
    }
   ],
   "source": [
    "list1 = [10, 20, [300, 400, [5000, 6000], 500], 30, 40]\n",
    "list1[2][2].append(7000)\n",
    "list1"
   ]
  },
  {
   "cell_type": "markdown",
   "id": "39d6745f",
   "metadata": {},
   "source": [
    "# Q8\n",
    "Given a nested list extend it by adding the sub list [\"h\", \"i\", \"j\"] in such a way that it will look\n",
    "like the following list\n",
    "list1 = [\"a\", \"b\", [\"c\", [\"d\", \"e\", [\"f\", \"g\"], \"k\"], \"l\"], \"m\", \"n\"]\n",
    "Sub List to be added = [\"h\", \"i\", \"j\"]\n",
    "output:\n",
    "['a', 'b', ['c', ['d', 'e', ['f', 'g', 'h', 'i', 'j'], 'k'], 'l'], 'm', 'n']\n",
    "\n",
    "solution\n",
    "\n",
    "list1 = [\"a\", \"b\", [\"c\", [\"d\", \"e\", [\"f\", \"g\"], \"k\"], \"l\"], \"m\", \"n\"]\n",
    "subList = [\"h\", \"i\", \"j\"]\n",
    "\n",
    "list1[2][1][2].extend(subList)\n",
    "print(list1)"
   ]
  },
  {
   "cell_type": "code",
   "execution_count": 35,
   "id": "8471e344",
   "metadata": {},
   "outputs": [
    {
     "name": "stdout",
     "output_type": "stream",
     "text": [
      "['a', 'b', ['c', ['d', 'e', ['f', 'g', 'h', 'i', 'j'], 'k'], 'l'], 'm', 'n']\n"
     ]
    }
   ],
   "source": [
    "list1 = [\"a\", \"b\", [\"c\", [\"d\", \"e\", [\"f\", \"g\"], \"k\"], \"l\"], \"m\", \"n\"]\n",
    "list2= [\"h\", \"i\", \"j\"]\n",
    "list1[2][1][2].extend(list2)\n",
    "print(list1)"
   ]
  },
  {
   "cell_type": "markdown",
   "id": "f5a11d5d",
   "metadata": {},
   "source": [
    "# Q9\n",
    "Given a Python list, find value 20 in the list, and if it is present, replace it with 200. Only\n",
    "update the first occurrence of a value\n",
    "list1 = [5, 10, 15, 20, 25, 50, 20]\n",
    "output:\n",
    "list1 = [5, 10, 15, 200, 25, 50, 20]"
   ]
  },
  {
   "cell_type": "code",
   "execution_count": 50,
   "id": "b9abc0d2",
   "metadata": {},
   "outputs": [
    {
     "name": "stdout",
     "output_type": "stream",
     "text": [
      "[5, 10, 15, 200, 25, 50, 20]\n"
     ]
    }
   ],
   "source": [
    "list1 = [5, 10, 15, 20, 25, 50, 20]\n",
    "\n",
    "for e in range(len(list1)):\n",
    "    if list1[e]==20:\n",
    "        list1.remove(list1[e])\n",
    "        list1.insert(e,200)\n",
    "        break\n",
    "\n",
    "print(list1)"
   ]
  },
  {
   "cell_type": "markdown",
   "id": "552ff139",
   "metadata": {},
   "source": [
    "# Q10\n",
    "Given a Python list, remove all occurrence of 20 from the list\n",
    "list1 = [5, 20, 15, 20, 25, 50, 20]\n",
    "output:\n",
    "[5, 15, 25, 50]"
   ]
  },
  {
   "cell_type": "code",
   "execution_count": 62,
   "id": "997f9d53",
   "metadata": {},
   "outputs": [
    {
     "name": "stdout",
     "output_type": "stream",
     "text": [
      "[5, 15, 25, 50]\n",
      "[5, 15, 25, 50]\n"
     ]
    }
   ],
   "source": [
    "list1 = [5, 20, 15, 20, 25, 50, 20]\n",
    "list2=[20]\n",
    "a=[list1[i] for i in range(len(list1)) if list1[i] not  in list2]\n",
    "print(a)"
   ]
  },
  {
   "cell_type": "code",
   "execution_count": null,
   "id": "745b6c73",
   "metadata": {},
   "outputs": [],
   "source": []
  }
 ],
 "metadata": {
  "kernelspec": {
   "display_name": "Python 3 (ipykernel)",
   "language": "python",
   "name": "python3"
  },
  "language_info": {
   "codemirror_mode": {
    "name": "ipython",
    "version": 3
   },
   "file_extension": ".py",
   "mimetype": "text/x-python",
   "name": "python",
   "nbconvert_exporter": "python",
   "pygments_lexer": "ipython3",
   "version": "3.9.13"
  }
 },
 "nbformat": 4,
 "nbformat_minor": 5
}
