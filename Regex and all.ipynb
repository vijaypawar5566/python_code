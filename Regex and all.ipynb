{
 "cells": [
  {
   "cell_type": "code",
   "execution_count": 1,
   "id": "eb4e5f8a",
   "metadata": {},
   "outputs": [
    {
     "name": "stdout",
     "output_type": "stream",
     "text": [
      "['Can', 'match', 'any', 'character', 'excep']\n"
     ]
    }
   ],
   "source": [
    "li=['Can', 'match' ,'any' ,'character' ,'excep']\n",
    "print(li)\n"
   ]
  },
  {
   "cell_type": "markdown",
   "id": "3a1b1f66",
   "metadata": {},
   "source": [
    "# Search the string to see if it starts with \"The\" and ends with \"Spain\":"
   ]
  },
  {
   "cell_type": "code",
   "execution_count": 11,
   "id": "f1f4eb62",
   "metadata": {},
   "outputs": [
    {
     "name": "stdout",
     "output_type": "stream",
     "text": [
      "<re.Match object; span=(0, 3), match='The'>\n",
      "<re.Match object; span=(4, 8), match='rain'>\n"
     ]
    }
   ],
   "source": [
    "import re\n",
    "\n",
    "txt=\"The rain in spain\"\n",
    "x=re.search(\"^The\",txt)\n",
    "print(x)\n",
    "\n",
    "x=re.search(\"r..n\",txt)\n",
    "print(x)\n",
    "\n"
   ]
  },
  {
   "cell_type": "code",
   "execution_count": 50,
   "id": "ea4bc63b",
   "metadata": {},
   "outputs": [
    {
     "name": "stdout",
     "output_type": "stream",
     "text": [
      "['p']\n"
     ]
    }
   ],
   "source": [
    "txt =\"python is acd high-levelc, adcf general-purpose programming language.\"\n",
    "b=re.findall(\"^[a-p]\",txt)\n",
    "print(b)\n"
   ]
  },
  {
   "cell_type": "code",
   "execution_count": 54,
   "id": "e33488c8",
   "metadata": {},
   "outputs": [
    {
     "name": "stdout",
     "output_type": "stream",
     "text": [
      "['age.']\n",
      "['python', 'is', 'acd', 'high-levelc,', 'adcf', 'general-purpose', 'programming', 'language.']\n"
     ]
    }
   ],
   "source": [
    "b=re.findall(\"age.$\",txt)\n",
    "print(b)\n",
    "list1=txt.split(\" \")\n",
    "print(list1)"
   ]
  },
  {
   "cell_type": "code",
   "execution_count": 102,
   "id": "985a741c",
   "metadata": {},
   "outputs": [
    {
     "name": "stdout",
     "output_type": "stream",
     "text": [
      "he1o planet\n",
      "['p', 'p', 'p', 'p']\n"
     ]
    }
   ],
   "source": [
    "txt1=\"python is acd high-levelc, adcf general-purpose pgramming language.\"\n",
    "b=re.findall(\"p\",txt1)\n",
    "print(txt)\n",
    "print(b)"
   ]
  },
  {
   "cell_type": "code",
   "execution_count": 91,
   "id": "db3423e3",
   "metadata": {},
   "outputs": [
    {
     "name": "stdout",
     "output_type": "stream",
     "text": [
      "python is acd high-levelc, adcf general-purpose pgramming language.\n",
      "['python is acd high-levelc, adcf general-purpose pgramming language']\n"
     ]
    }
   ],
   "source": [
    "print(txt1)\n",
    "x=re.findall(\".+e\",txt1)\n",
    "print(x)"
   ]
  },
  {
   "cell_type": "code",
   "execution_count": 99,
   "id": "9825c933",
   "metadata": {},
   "outputs": [
    {
     "name": "stdout",
     "output_type": "stream",
     "text": [
      "['planet']\n"
     ]
    }
   ],
   "source": [
    "txt = \"hello planet\"\n",
    "x=re.findall(\"pla.+\",txt)\n",
    "print(x)"
   ]
  },
  {
   "cell_type": "code",
   "execution_count": 101,
   "id": "2fcae0f3",
   "metadata": {},
   "outputs": [
    {
     "name": "stdout",
     "output_type": "stream",
     "text": [
      "['he1o']\n"
     ]
    }
   ],
   "source": [
    "txt = \"he1o planet\"\n",
    "#Search for a sequence that starts with \"he\",\n",
    "#followed by 0 or 1  (any) character, and an \"o\":\n",
    "\n",
    "x = re.findall(\"he[0-1]o\", txt)\n",
    "print(x)\n",
    "\n"
   ]
  },
  {
   "cell_type": "markdown",
   "id": "c75d6fbd",
   "metadata": {},
   "source": [
    "# Write a Python program to check that a string contains only a certain set of characters (in this case a-z, A-Z and 0-9)."
   ]
  },
  {
   "cell_type": "code",
   "execution_count": 109,
   "id": "36b7229a",
   "metadata": {},
   "outputs": [
    {
     "name": "stdout",
     "output_type": "stream",
     "text": [
      "['h', 'e', 'l', 'l', 'o', 'm', 'y', 'n', 'a', 'm', 'e', 'i', 's', 'v', 'i', 'j', 'a', 'y', 'Y']\n"
     ]
    }
   ],
   "source": [
    "import re\n",
    "str1=\"hello my name is vijayY\"\n",
    "\n",
    "x=re.findall(\"[a-z]|[A-Z]\",str1)\n",
    "print(x)"
   ]
  },
  {
   "cell_type": "markdown",
   "id": "fc1009de",
   "metadata": {},
   "source": [
    "# 2. Write a Python program that matches a string that has an a followed by zero or more b's."
   ]
  },
  {
   "cell_type": "code",
   "execution_count": 113,
   "id": "48e5b916",
   "metadata": {},
   "outputs": [
    {
     "name": "stdout",
     "output_type": "stream",
     "text": [
      "['nam', 'nam0', 'nambbbb']\n"
     ]
    }
   ],
   "source": [
    "str1=\"hello my name is vijayY knam0 janambbbb\"\n",
    "x=re.findall(\"nam[0]|namb*\",str1)\n",
    "print(x)"
   ]
  },
  {
   "cell_type": "markdown",
   "id": "df315869",
   "metadata": {},
   "source": [
    "# 3. Write a Python program that matches a string that has an a followed by one or more b's."
   ]
  },
  {
   "cell_type": "code",
   "execution_count": 118,
   "id": "529245db",
   "metadata": {},
   "outputs": [
    {
     "name": "stdout",
     "output_type": "stream",
     "text": [
      "['nambbbb', 'namb']\n"
     ]
    }
   ],
   "source": [
    "str1=\"hello my name is vijayY knam0 janambbbb kjsdhnambsf ddjdjnamsdb\"\n",
    "x=re.findall(\"namb+\",str1)\n",
    "print(x)"
   ]
  },
  {
   "cell_type": "markdown",
   "id": "dca04e32",
   "metadata": {},
   "source": [
    "# 4. Write a Python program that matches a string that has an a followed by zero or one 'b'. "
   ]
  },
  {
   "cell_type": "code",
   "execution_count": 137,
   "id": "a0cc1bd7",
   "metadata": {},
   "outputs": [
    {
     "name": "stdout",
     "output_type": "stream",
     "text": [
      "['a0', 'ab', 'ab']\n"
     ]
    }
   ],
   "source": [
    "str1=\"hello mya0 name is vijayY knam0 janambbbb kjsdhnambsf ddjdjnamsdb sdhsab abbbb\"\n",
    "#x=re.findall(\"0+ | b??\",str1)\n",
    "x=re.findall(\"a[0]|a[b]\",str1)\n",
    "print(x)"
   ]
  },
  {
   "cell_type": "markdown",
   "id": "c710a9d7",
   "metadata": {},
   "source": [
    "# 5. Write a Python program that matches a string that has an a followed by three 'b'"
   ]
  },
  {
   "cell_type": "code",
   "execution_count": 150,
   "id": "991ef872",
   "metadata": {},
   "outputs": [
    {
     "name": "stdout",
     "output_type": "stream",
     "text": [
      "['bbb', 'bbb']\n"
     ]
    }
   ],
   "source": [
    "str1=\"hello mya0 name is vijayY knam0 janambbbb kjsdhnambsf ddjdjnamsdb sdhsab abbbb\"\n",
    "x=re.findall(\"b{3}\",str1)\n",
    "print(x)"
   ]
  },
  {
   "cell_type": "markdown",
   "id": "689867c5",
   "metadata": {},
   "source": [
    "# 6. Write a Python program that matches a string that has an a followed by two to three 'b'"
   ]
  },
  {
   "cell_type": "code",
   "execution_count": 153,
   "id": "3c7c426d",
   "metadata": {},
   "outputs": [
    {
     "name": "stdout",
     "output_type": "stream",
     "text": [
      "['bbb', 'bb', 'bbb']\n"
     ]
    }
   ],
   "source": [
    "str1=\"hello mya0 name is vijayY knam0 janambbb fgfdgbb kjsdhnambsf ddjdjnamsdb sdhsab abbbb\"\n",
    "x=re.findall(\"b{2,3}\",str1)\n",
    "print(x)"
   ]
  },
  {
   "cell_type": "markdown",
   "id": "20996fdd",
   "metadata": {},
   "source": [
    "# 7. Write a Python program to find sequences of lowercase letters joined with a underscore"
   ]
  },
  {
   "cell_type": "code",
   "execution_count": 157,
   "id": "09575c48",
   "metadata": {},
   "outputs": [
    {
     "name": "stdout",
     "output_type": "stream",
     "text": [
      "['_name', '_sdhnambsf']\n"
     ]
    }
   ],
   "source": [
    "str1=\"hello mya0 _name is vijayY knam0 janambbb fgfdgbb kj_sdhnambsf ddjdjnamsdb sdhsab abbbb\"\n",
    "x=re.findall(\"_[a-z]+\",str1)\n",
    "print(x)"
   ]
  },
  {
   "cell_type": "markdown",
   "id": "92c15e2a",
   "metadata": {},
   "source": [
    "# 8. Write a Python program to find the sequences of one upper case letter followed by lower case letters"
   ]
  },
  {
   "cell_type": "code",
   "execution_count": 159,
   "id": "0db74b35",
   "metadata": {},
   "outputs": [
    {
     "name": "stdout",
     "output_type": "stream",
     "text": [
      "['Afdhfjjfdgj']\n"
     ]
    }
   ],
   "source": [
    "str1=\"hello mya0 _name is vijayY knam0 janambbb Afdhfjjfdgj fgfdgbb kj_sdhnambsf ddjdjnamsdb sdhsab abbbb\"\n",
    "x=re.findall(\"[A-Z][a-z]+\",str1)\n",
    "print(x)"
   ]
  },
  {
   "cell_type": "markdown",
   "id": "44a95697",
   "metadata": {},
   "source": [
    "# 9. Write a Python program that matches a string that has an 'a' followed by anything, ending in 'b'"
   ]
  },
  {
   "cell_type": "code",
   "execution_count": 169,
   "id": "46bcfd81",
   "metadata": {},
   "outputs": [
    {
     "name": "stdout",
     "output_type": "stream",
     "text": [
      "['ame is vijayY knam0 janambbb Afdhfjjfdgj fgfdgbb kj_sdh ahjhjbd nambsf ddjdjnamsdb sdhsab abbbb']\n"
     ]
    }
   ],
   "source": [
    "str1=\"hello my _name is vijayY knam0 janambbb Afdhfjjfdgj fgfdgbb kj_sdh ahjhjbd nambsf ddjdjnamsdb sdhsab abbbb\"\n",
    "x=re.findall(\"a.*b$\",str1)\n",
    "print(x)"
   ]
  },
  {
   "cell_type": "markdown",
   "id": "e2847012",
   "metadata": {},
   "source": [
    "#  10. Write a Python program that matches a word at the beginning of a string."
   ]
  },
  {
   "cell_type": "code",
   "execution_count": 172,
   "id": "03f1af3b",
   "metadata": {},
   "outputs": [
    {
     "name": "stdout",
     "output_type": "stream",
     "text": [
      "None\n"
     ]
    }
   ],
   "source": [
    "str1=\"my name is vijay pawar\"\n",
    "x= re.search(\"^myy\",str1)\n",
    "print(x)"
   ]
  },
  {
   "cell_type": "markdown",
   "id": "8f12f622",
   "metadata": {},
   "source": [
    "# 11. Write a Python program that matches a word at the end of string, with optional punctuation"
   ]
  },
  {
   "cell_type": "code",
   "execution_count": 176,
   "id": "935f4560",
   "metadata": {},
   "outputs": [
    {
     "name": "stdout",
     "output_type": "stream",
     "text": [
      "['ar']\n"
     ]
    }
   ],
   "source": [
    "str1=\"my name is vijay pawar\"\n",
    "x=re.findall(\"ar$\",str1)\n",
    "print(x)"
   ]
  },
  {
   "cell_type": "markdown",
   "id": "3cc032d1",
   "metadata": {},
   "source": [
    "# 12. Write a Python program that matches a word containing 'z'."
   ]
  },
  {
   "cell_type": "code",
   "execution_count": 178,
   "id": "dac2fa5c",
   "metadata": {},
   "outputs": [
    {
     "name": "stdout",
     "output_type": "stream",
     "text": [
      "<re.Match object; span=(16, 17), match='z'>\n"
     ]
    }
   ],
   "source": [
    "str1=\"my name is vijayzz pzawar\"\n",
    "x=re.search(\"z\",str1)\n",
    "print(x)"
   ]
  },
  {
   "cell_type": "markdown",
   "id": "c247d01b",
   "metadata": {},
   "source": [
    "# 13. Write a Python program that matches a word containing 'z', not at the start or end of the word."
   ]
  },
  {
   "cell_type": "code",
   "execution_count": 180,
   "id": "5fde5445",
   "metadata": {},
   "outputs": [
    {
     "name": "stdout",
     "output_type": "stream",
     "text": [
      "['yz ', 'pza']\n"
     ]
    }
   ],
   "source": [
    "str1=\"my name is vijayz pzawar\"\n",
    "x=re.findall(\".z.\",str1)\n",
    "print(x)"
   ]
  },
  {
   "cell_type": "markdown",
   "id": "afcb8c19",
   "metadata": {},
   "source": [
    "# Write a program which can map() and filter() to make a list whose elements are square of even number in [1,2,3,4,5,6,7,8,9,10]."
   ]
  },
  {
   "cell_type": "code",
   "execution_count": 8,
   "id": "19095f86",
   "metadata": {},
   "outputs": [
    {
     "name": "stdout",
     "output_type": "stream",
     "text": [
      "[4, 16, 36, 64, 100]\n",
      "[4, 16, 36, 64, 100]\n"
     ]
    }
   ],
   "source": [
    "list1=[1,2,3,4,5,6,7,8,9,10]\n",
    "list2=[]\n",
    "for e in list1:\n",
    "    if e%2==0:\n",
    "        list2.append(e**2)\n",
    "print(list2)\n",
    "x=map(lambda x:x**2,filter(lambda x:x%2==0 , list1))\n",
    "print(list(x))"
   ]
  },
  {
   "cell_type": "code",
   "execution_count": 2,
   "id": "f92c8308",
   "metadata": {},
   "outputs": [],
   "source": [
    "import pandas as pd\n"
   ]
  },
  {
   "cell_type": "code",
   "execution_count": 3,
   "id": "edd20abe",
   "metadata": {},
   "outputs": [],
   "source": [
    "df1={\"class1\":['vijay','Mandar','Saurabh','Tejas'],'class2':['Sagar','Kaustubh','raj','Akash']}"
   ]
  },
  {
   "cell_type": "code",
   "execution_count": 4,
   "id": "205095a3",
   "metadata": {},
   "outputs": [
    {
     "data": {
      "text/plain": [
       "{'class1': ['vijay', 'Mandar', 'Saurabh', 'Tejas'],\n",
       " 'class2': ['Sagar', 'Kaustubh', 'raj', 'Akash']}"
      ]
     },
     "execution_count": 4,
     "metadata": {},
     "output_type": "execute_result"
    }
   ],
   "source": [
    "df1"
   ]
  },
  {
   "cell_type": "code",
   "execution_count": 9,
   "id": "4e966054",
   "metadata": {},
   "outputs": [
    {
     "data": {
      "text/html": [
       "<div>\n",
       "<style scoped>\n",
       "    .dataframe tbody tr th:only-of-type {\n",
       "        vertical-align: middle;\n",
       "    }\n",
       "\n",
       "    .dataframe tbody tr th {\n",
       "        vertical-align: top;\n",
       "    }\n",
       "\n",
       "    .dataframe thead th {\n",
       "        text-align: right;\n",
       "    }\n",
       "</style>\n",
       "<table border=\"1\" class=\"dataframe\">\n",
       "  <thead>\n",
       "    <tr style=\"text-align: right;\">\n",
       "      <th></th>\n",
       "      <th>class1</th>\n",
       "      <th>class2</th>\n",
       "    </tr>\n",
       "  </thead>\n",
       "  <tbody>\n",
       "    <tr>\n",
       "      <th>0</th>\n",
       "      <td>vijay</td>\n",
       "      <td>Sagar</td>\n",
       "    </tr>\n",
       "    <tr>\n",
       "      <th>1</th>\n",
       "      <td>Mandar</td>\n",
       "      <td>Kaustubh</td>\n",
       "    </tr>\n",
       "    <tr>\n",
       "      <th>2</th>\n",
       "      <td>Saurabh</td>\n",
       "      <td>raj</td>\n",
       "    </tr>\n",
       "    <tr>\n",
       "      <th>3</th>\n",
       "      <td>Tejas</td>\n",
       "      <td>Akash</td>\n",
       "    </tr>\n",
       "  </tbody>\n",
       "</table>\n",
       "</div>"
      ],
      "text/plain": [
       "    class1    class2\n",
       "0    vijay     Sagar\n",
       "1   Mandar  Kaustubh\n",
       "2  Saurabh       raj\n",
       "3    Tejas     Akash"
      ]
     },
     "execution_count": 9,
     "metadata": {},
     "output_type": "execute_result"
    }
   ],
   "source": [
    "import pandas as pd\n",
    "df2=pd.DataFrame(df1)\n",
    "df2"
   ]
  },
  {
   "cell_type": "code",
   "execution_count": 10,
   "id": "54c54990",
   "metadata": {},
   "outputs": [
    {
     "data": {
      "text/plain": [
       "Index(['class1', 'class2'], dtype='object')"
      ]
     },
     "execution_count": 10,
     "metadata": {},
     "output_type": "execute_result"
    }
   ],
   "source": [
    "df2.columns"
   ]
  },
  {
   "cell_type": "code",
   "execution_count": 13,
   "id": "4e44cb5a",
   "metadata": {},
   "outputs": [
    {
     "data": {
      "text/plain": [
       "<bound method DataFrame.info of     class1    class2\n",
       "0    vijay     Sagar\n",
       "1   Mandar  Kaustubh\n",
       "2  Saurabh       raj\n",
       "3    Tejas     Akash>"
      ]
     },
     "execution_count": 13,
     "metadata": {},
     "output_type": "execute_result"
    }
   ],
   "source": [
    "df2.info"
   ]
  },
  {
   "cell_type": "code",
   "execution_count": 14,
   "id": "ba34e763",
   "metadata": {},
   "outputs": [
    {
     "data": {
      "text/plain": [
       "(4, 2)"
      ]
     },
     "execution_count": 14,
     "metadata": {},
     "output_type": "execute_result"
    }
   ],
   "source": [
    "df2.shape"
   ]
  },
  {
   "cell_type": "code",
   "execution_count": 27,
   "id": "42ac8bd5",
   "metadata": {},
   "outputs": [],
   "source": [
    "df2['class1']=df2['class1'].sort_values()"
   ]
  },
  {
   "cell_type": "code",
   "execution_count": 29,
   "id": "9b54a2f2",
   "metadata": {},
   "outputs": [
    {
     "data": {
      "text/plain": [
       "4"
      ]
     },
     "execution_count": 29,
     "metadata": {},
     "output_type": "execute_result"
    }
   ],
   "source": [
    "df2.shape[0]"
   ]
  },
  {
   "cell_type": "markdown",
   "id": "d3bb69f9",
   "metadata": {},
   "source": [
    "# Special Prime\n",
    "A prime number is said to be Special prime number if it can be expressed as the sum of three integer numbers: two neighboring prime numbers and 1. For example, 19 = 7 + 11 + 1, or 13 = 5 + 7 + 1. Note:- Two prime numbers are called neighboring if there are no other prime numbers between them"
   ]
  },
  {
   "cell_type": "code",
   "execution_count": 45,
   "id": "c7806770",
   "metadata": {},
   "outputs": [],
   "source": [
    "def prime():\n",
    "    list1=[]\n",
    "    for e in range(1,101):\n",
    "        cnt=0\n",
    "        for j in range(1,e//2+1):\n",
    "            if e%j==0:\n",
    "                cnt=cnt+1\n",
    "        if cnt<2:\n",
    "            list1.append(e)\n",
    "    print(list1)\n",
    "    \n",
    "    tot=0\n",
    "    spPrime=[]\n",
    "    for h in range(len(list1)-1):\n",
    "        tot=list1[h] + list1[h+1] + 1\n",
    "        if tot in list1:\n",
    "            spPrime.append(tot)\n",
    "    print(spPrime)\n",
    "        \n",
    "        \n",
    "        "
   ]
  },
  {
   "cell_type": "code",
   "execution_count": 46,
   "id": "838913c7",
   "metadata": {},
   "outputs": [
    {
     "name": "stdout",
     "output_type": "stream",
     "text": [
      "[1, 2, 3, 5, 7, 11, 13, 17, 19, 23, 29, 31, 37, 41, 43, 47, 53, 59, 61, 67, 71, 73, 79, 83, 89, 97]\n",
      "[13, 19, 31, 37, 43, 53, 61, 79]\n"
     ]
    }
   ],
   "source": [
    "a=prime()"
   ]
  },
  {
   "cell_type": "code",
   "execution_count": 58,
   "id": "34eb754d",
   "metadata": {},
   "outputs": [],
   "source": [
    "def prime():\n",
    "    list1=[]\n",
    "    for e in range(1,100):\n",
    "        cnt=0\n",
    "        for j in range(1,e//2+1):\n",
    "            if e%j==0:\n",
    "                cnt=cnt+1\n",
    "        if cnt<2:\n",
    "            list1.append(e)\n",
    "    print(list1)\n",
    "    \n",
    "    tot=0\n",
    "    spPrime={}\n",
    "    for e in range(len(list1)-1):\n",
    "        tot=list1[e]+list1[e+1]+1\n",
    "        if tot in list1:\n",
    "            spPrime[tot]=(list1[e],list1[e+1])\n",
    "    print(spPrime)"
   ]
  },
  {
   "cell_type": "code",
   "execution_count": 59,
   "id": "b8c56956",
   "metadata": {},
   "outputs": [
    {
     "name": "stdout",
     "output_type": "stream",
     "text": [
      "[1, 2, 3, 5, 7, 11, 13, 17, 19, 23, 29, 31, 37, 41, 43, 47, 53, 59, 61, 67, 71, 73, 79, 83, 89, 97]\n",
      "{13: (5, 7), 19: (7, 11), 31: (13, 17), 37: (17, 19), 43: (19, 23), 53: (23, 29), 61: (29, 31), 79: (37, 41)}\n"
     ]
    }
   ],
   "source": [
    "a=prime()"
   ]
  },
  {
   "cell_type": "code",
   "execution_count": 1,
   "id": "97bf01da",
   "metadata": {},
   "outputs": [
    {
     "name": "stdout",
     "output_type": "stream",
     "text": [
      "[1, 2, 3, 4, 5, 6]\n"
     ]
    }
   ],
   "source": [
    "x=[1,2,3]\n",
    "y=[4,5,6]\n",
    "\n",
    "print(x+y)"
   ]
  },
  {
   "cell_type": "code",
   "execution_count": 14,
   "id": "cf807404",
   "metadata": {},
   "outputs": [
    {
     "name": "stdout",
     "output_type": "stream",
     "text": [
      "['a', 'a', 'a', 'a', 'e', 'i', 'i', 'j', 'm', 'm', 'n', 'p', 'r', 's', 'v', 'w', 'y', 'y']\n"
     ]
    }
   ],
   "source": [
    "import re\n",
    "str1=\"vijay my name is pawar\"\n",
    "\n",
    "x1=re.findall(\" \",str1)\n",
    "list1=sorted(str1)\n",
    "\n",
    "for e in range(len(x1)):\n",
    "    list1.remove(\" \")\n",
    "print(list1)"
   ]
  },
  {
   "cell_type": "code",
   "execution_count": null,
   "id": "ae96f923",
   "metadata": {},
   "outputs": [],
   "source": [
    "\n",
    "\n",
    "\n",
    "\n",
    "\n",
    "636"
   ]
  },
  {
   "cell_type": "code",
   "execution_count": 1,
   "id": "5f7c8526",
   "metadata": {},
   "outputs": [
    {
     "data": {
      "text/plain": [
       "[' ',\n",
       " ' ',\n",
       " ' ',\n",
       " ' ',\n",
       " 'a',\n",
       " 'a',\n",
       " 'a',\n",
       " 'a',\n",
       " 'a',\n",
       " 'a',\n",
       " 'a',\n",
       " 'b',\n",
       " 'e',\n",
       " 'h',\n",
       " 'i',\n",
       " 'i',\n",
       " 'j',\n",
       " 'k',\n",
       " 'm',\n",
       " 'm',\n",
       " 'n',\n",
       " 'p',\n",
       " 'p',\n",
       " 'r',\n",
       " 'r',\n",
       " 'r',\n",
       " 's',\n",
       " 'v',\n",
       " 'w',\n",
       " 'y',\n",
       " 'y']"
      ]
     },
     "execution_count": 1,
     "metadata": {},
     "output_type": "execute_result"
    }
   ],
   "source": [
    "str1=\"my name is vijay prabhakar pawar\"\n",
    "str2=sorted(str1)\n",
    "str2.remove(\" \")\n",
    "str2"
   ]
  },
  {
   "cell_type": "code",
   "execution_count": 25,
   "id": "a9d65b26",
   "metadata": {},
   "outputs": [
    {
     "name": "stdout",
     "output_type": "stream",
     "text": [
      "[1, 2]\n",
      "[3, 4]\n",
      "[4, 6]\n",
      "[[1, 2], [3, 4], [4, 6]]\n"
     ]
    }
   ],
   "source": [
    "a=[(1,2),(3,4),(6,4)]\n",
    "b=sorted(a)\n",
    "for e in range(len(b)):\n",
    "    print(sorted(b[e]))\n",
    "    b[e]=sorted(b[e])\n",
    "print(b)\n",
    "    \n"
   ]
  },
  {
   "cell_type": "code",
   "execution_count": 19,
   "id": "5bcea073",
   "metadata": {},
   "outputs": [
    {
     "name": "stdout",
     "output_type": "stream",
     "text": [
      "Object `replace` not found.\n"
     ]
    }
   ],
   "source": []
  },
  {
   "cell_type": "code",
   "execution_count": 27,
   "id": "887fdcb5",
   "metadata": {},
   "outputs": [
    {
     "ename": "NameError",
     "evalue": "name 'prod' is not defined",
     "output_type": "error",
     "traceback": [
      "\u001b[1;31m---------------------------------------------------------------------------\u001b[0m",
      "\u001b[1;31mNameError\u001b[0m                                 Traceback (most recent call last)",
      "\u001b[1;32m~\\AppData\\Local\\Temp\\ipykernel_11788\\1254645646.py\u001b[0m in \u001b[0;36m<module>\u001b[1;34m\u001b[0m\n\u001b[0;32m      1\u001b[0m \u001b[1;32mfrom\u001b[0m \u001b[0mitertools\u001b[0m \u001b[1;32mimport\u001b[0m \u001b[1;33m*\u001b[0m\u001b[1;33m\u001b[0m\u001b[1;33m\u001b[0m\u001b[0m\n\u001b[1;32m----> 2\u001b[1;33m \u001b[0mprint\u001b[0m\u001b[1;33m(\u001b[0m\u001b[0mprod\u001b[0m\u001b[1;33m(\u001b[0m\u001b[0mrange\u001b[0m\u001b[1;33m(\u001b[0m\u001b[1;36m1\u001b[0m\u001b[1;33m,\u001b[0m\u001b[1;36m10\u001b[0m\u001b[1;33m)\u001b[0m\u001b[1;33m)\u001b[0m\u001b[1;33m)\u001b[0m\u001b[1;33m\u001b[0m\u001b[1;33m\u001b[0m\u001b[0m\n\u001b[0m",
      "\u001b[1;31mNameError\u001b[0m: name 'prod' is not defined"
     ]
    }
   ],
   "source": [
    "from itertools import *\n",
    "print(prod(range(1,10)))"
   ]
  },
  {
   "cell_type": "code",
   "execution_count": 28,
   "id": "7dd428ae",
   "metadata": {},
   "outputs": [],
   "source": [
    "def solve(numheads,numlegs):\n",
    "    ns='No solutions!'\n",
    "    for i in range(numheads+1):\n",
    "        j=numheads-i\n",
    "        if 2*i+4*j==numlegs:\n",
    "            return i,j\n",
    "    return ns,ns"
   ]
  },
  {
   "cell_type": "code",
   "execution_count": 29,
   "id": "9f182aa2",
   "metadata": {},
   "outputs": [
    {
     "data": {
      "text/plain": [
       "(23, 12)"
      ]
     },
     "execution_count": 29,
     "metadata": {},
     "output_type": "execute_result"
    }
   ],
   "source": [
    "solve(35,94)"
   ]
  },
  {
   "cell_type": "markdown",
   "id": "536b9227",
   "metadata": {},
   "source": [
    "lease write a program to generate all sentences where subject is in [\"I\", \"You\"] and verb is in [\"Play\", \"Love\"] and the object is in [\"Hockey\",\"Football\"]"
   ]
  },
  {
   "cell_type": "code",
   "execution_count": 6,
   "id": "c585013c",
   "metadata": {},
   "outputs": [
    {
     "name": "stdout",
     "output_type": "stream",
     "text": [
      "I Play Hockey\n",
      "I Play Football\n",
      "I Love Hockey\n",
      "I Love Football\n",
      "You Play Hockey\n",
      "You Play Football\n",
      "You Love Hockey\n",
      "You Love Football\n"
     ]
    }
   ],
   "source": [
    "from itertools import permutations\n",
    "li1= [\"I\", \"You\"] \n",
    "li2=[\"Play\", \"Love\"] \n",
    "li3= [\"Hockey\",\"Football\"]\n",
    "\n",
    "for e in li1:\n",
    "    for j in li2:\n",
    "        for k in li3:\n",
    "            print(e,j,k)\n"
   ]
  },
  {
   "cell_type": "markdown",
   "id": "0dfcac65",
   "metadata": {},
   "source": [
    "lease write a program to shuffle and print the list [3,6,7,8]."
   ]
  },
  {
   "cell_type": "code",
   "execution_count": 8,
   "id": "6fe69947",
   "metadata": {},
   "outputs": [
    {
     "data": {
      "text/plain": [
       "[6, 3, 8, 7]"
      ]
     },
     "execution_count": 8,
     "metadata": {},
     "output_type": "execute_result"
    }
   ],
   "source": [
    "from random import shuffle\n",
    "list1 = [3,6,7,8]\n",
    "shuffle(list1)\n",
    "list1"
   ]
  },
  {
   "cell_type": "markdown",
   "id": "b6d5ea7e",
   "metadata": {},
   "source": [
    "Please write a program to print the running time of execution of \"1+1\" for 100 times"
   ]
  },
  {
   "cell_type": "code",
   "execution_count": 11,
   "id": "d1f72d4f",
   "metadata": {},
   "outputs": [
    {
     "name": "stdout",
     "output_type": "stream",
     "text": [
      "2.973515900000166\n"
     ]
    }
   ],
   "source": []
  },
  {
   "cell_type": "code",
   "execution_count": 17,
   "id": "0bc6ec28",
   "metadata": {},
   "outputs": [],
   "source": [
    "li = [2,4,6,8,10]\n",
    "for i in li:\n",
    "    assert i%2==0\n",
    "    \n"
   ]
  },
  {
   "cell_type": "markdown",
   "id": "e9b65d10",
   "metadata": {},
   "source": [
    "Please write a program which accepts basic mathematic expression from console and print the evaluation result."
   ]
  },
  {
   "cell_type": "code",
   "execution_count": 1,
   "id": "8815622a",
   "metadata": {},
   "outputs": [
    {
     "name": "stdout",
     "output_type": "stream",
     "text": [
      "enter35+6+12\n"
     ]
    },
    {
     "data": {
      "text/plain": [
       "53"
      ]
     },
     "execution_count": 1,
     "metadata": {},
     "output_type": "execute_result"
    }
   ],
   "source": [
    "in1=input(\"enter\")\n",
    "\n",
    "in2=eval(in1)\n",
    "in2"
   ]
  },
  {
   "cell_type": "markdown",
   "id": "1cdcf5e8",
   "metadata": {},
   "source": [
    "In this question, You need to remove items from a list while iterating but without creating a different copy of a list.\n",
    "Remove numbers greater than 50\n"
   ]
  },
  {
   "cell_type": "code",
   "execution_count": 4,
   "id": "94285bf0",
   "metadata": {},
   "outputs": [
    {
     "data": {
      "text/plain": [
       "[10, 20, 30, 40, 50]"
      ]
     },
     "execution_count": 4,
     "metadata": {},
     "output_type": "execute_result"
    }
   ],
   "source": [
    "number_list = [10, 20, 30, 40, 50, 60, 70, 80, 90, 100]\n",
    "\n",
    "number_list =[ e for e in number_list if e <= 50 ]\n",
    "number_list"
   ]
  },
  {
   "cell_type": "code",
   "execution_count": 11,
   "id": "89a61fab",
   "metadata": {},
   "outputs": [
    {
     "name": "stdout",
     "output_type": "stream",
     "text": [
      "[(0, 0), (1, 2), (90, 3), (1, 12, 14)]\n"
     ]
    }
   ],
   "source": [
    "li1=[(1,12,14), (1,2) , (90,3), (0,0) ]\n",
    "li1.sort(key = lambda a : a[1])\n",
    "print(li1)\n",
    "\n",
    "# li2=sorted()\n",
    "# li2\n"
   ]
  },
  {
   "cell_type": "markdown",
   "id": "837ab55f",
   "metadata": {},
   "source": [
    "Using lambda and sorted() function, sort the list based on the remainder from dividing each element to 5 (From greater to smaller).\n"
   ]
  },
  {
   "cell_type": "code",
   "execution_count": 14,
   "id": "cd0df050",
   "metadata": {},
   "outputs": [
    {
     "data": {
      "text/plain": [
       "[30, 40, 5, 66, 91, 87, 107, 28, 78, 19]"
      ]
     },
     "execution_count": 14,
     "metadata": {},
     "output_type": "execute_result"
    }
   ],
   "source": [
    "li1=[19, 28, 30, 40, 5, 66, 78, 87, 91, 107]\n",
    "li1.sort(key = lambda x : x%5 )\n",
    "li1\n",
    "\n"
   ]
  },
  {
   "cell_type": "markdown",
   "id": "095e55a4",
   "metadata": {},
   "source": [
    "\n",
    "Using lambda and sorted() function, sort the list based on last characters of the items from z to a.\n"
   ]
  },
  {
   "cell_type": "code",
   "execution_count": 17,
   "id": "7799ce75",
   "metadata": {},
   "outputs": [
    {
     "data": {
      "text/plain": [
       "['vijaa', 'saurabh', 'kaustubh', 'mandar', 'sagaz']"
      ]
     },
     "execution_count": 17,
     "metadata": {},
     "output_type": "execute_result"
    }
   ],
   "source": [
    "list1=['vijaa','saurabh','mandar','sagaz','kaustubh']\n",
    "list1.sort(key = lambda x : x[len(x)-1::1])\n",
    "list1"
   ]
  },
  {
   "cell_type": "markdown",
   "id": "14588263",
   "metadata": {},
   "source": [
    "Using len function and sorted() function, sort the list of words based on the length of the strings (In ascending order).\n"
   ]
  },
  {
   "cell_type": "code",
   "execution_count": 21,
   "id": "7e1fc810",
   "metadata": {},
   "outputs": [
    {
     "data": {
      "text/plain": [
       "['sagaz', 'mandar', 'saurabh', 'kaustubh', 'vijaaaaaa']"
      ]
     },
     "execution_count": 21,
     "metadata": {},
     "output_type": "execute_result"
    }
   ],
   "source": [
    "list1=['vijaaaaaa','saurabh','mandar','sagaz','kaustubh']\n",
    "list1.sort(key = lambda x : len(x))\n",
    "list1"
   ]
  },
  {
   "cell_type": "markdown",
   "id": "3120033f",
   "metadata": {},
   "source": [
    "Using list comprehension, construct a list from the squares of each element in the list, if the square is greater than 50.\n"
   ]
  },
  {
   "cell_type": "code",
   "execution_count": 26,
   "id": "ae72e336",
   "metadata": {},
   "outputs": [
    {
     "data": {
      "text/plain": [
       "[2, 7, 5, 6, 4, 3]"
      ]
     },
     "execution_count": 26,
     "metadata": {},
     "output_type": "execute_result"
    }
   ],
   "source": [
    "list1=[2,8,7,9,5,6,4,3,10,12,11]\n",
    "\n",
    "list2=list(map(lambda x : x, filter(lambda x:x**2 < 50,list1)))\n",
    "list2\n"
   ]
  },
  {
   "cell_type": "markdown",
   "id": "8eed0907",
   "metadata": {},
   "source": [
    "Create a list from the elements of a range from 1200 to 2000 with steps of 130, using list WAP comprehension"
   ]
  },
  {
   "cell_type": "code",
   "execution_count": 35,
   "id": "499c55b3",
   "metadata": {},
   "outputs": [
    {
     "name": "stdout",
     "output_type": "stream",
     "text": [
      "[1200, 1330, 1460, 1590, 1720, 1850, 1980]\n"
     ]
    }
   ],
   "source": [
    "li1=[]\n",
    "for e in range(1200,2001):\n",
    "    li1.append(e)\n",
    "print(li1[::130])"
   ]
  },
  {
   "cell_type": "code",
   "execution_count": 52,
   "id": "02ea822d",
   "metadata": {},
   "outputs": [
    {
     "ename": "AttributeError",
     "evalue": "'dict' object has no attribute 'split'",
     "output_type": "error",
     "traceback": [
      "\u001b[1;31m---------------------------------------------------------------------------\u001b[0m",
      "\u001b[1;31mAttributeError\u001b[0m                            Traceback (most recent call last)",
      "\u001b[1;32m~\\AppData\\Local\\Temp\\ipykernel_11552\\1533813693.py\u001b[0m in \u001b[0;36m<module>\u001b[1;34m\u001b[0m\n\u001b[0;32m      2\u001b[0m \u001b[0ml1\u001b[0m \u001b[1;33m=\u001b[0m \u001b[1;33m[\u001b[0m\u001b[1;34m'A'\u001b[0m\u001b[1;33m,\u001b[0m \u001b[1;34m'C'\u001b[0m\u001b[1;33m,\u001b[0m \u001b[1;34m'F'\u001b[0m\u001b[1;33m]\u001b[0m\u001b[1;33m\u001b[0m\u001b[1;33m\u001b[0m\u001b[0m\n\u001b[0;32m      3\u001b[0m \u001b[1;33m\u001b[0m\u001b[0m\n\u001b[1;32m----> 4\u001b[1;33m \u001b[0ms1\u001b[0m\u001b[1;33m=\u001b[0m\u001b[0md1\u001b[0m\u001b[1;33m.\u001b[0m\u001b[0msplit\u001b[0m\u001b[1;33m(\u001b[0m\u001b[1;34m\":\"\u001b[0m\u001b[1;33m)\u001b[0m\u001b[1;33m\u001b[0m\u001b[1;33m\u001b[0m\u001b[0m\n\u001b[0m\u001b[0;32m      5\u001b[0m \u001b[0ms1\u001b[0m\u001b[1;33m\u001b[0m\u001b[1;33m\u001b[0m\u001b[0m\n\u001b[0;32m      6\u001b[0m \u001b[1;33m\u001b[0m\u001b[0m\n",
      "\u001b[1;31mAttributeError\u001b[0m: 'dict' object has no attribute 'split'"
     ]
    }
   ],
   "source": [
    "d1 = {'A': 65, 'B': 66, 'C': 67, 'D': 68, 'E': 69, 'F': 70}\n",
    "l1 = ['A', 'C', 'F']\n",
    "\n",
    "\n",
    "        \n",
    "        \n",
    "\n"
   ]
  },
  {
   "cell_type": "code",
   "execution_count": 54,
   "id": "c1c4a851",
   "metadata": {},
   "outputs": [
    {
     "data": {
      "text/plain": [
       "['__class__',\n",
       " '__class_getitem__',\n",
       " '__contains__',\n",
       " '__delattr__',\n",
       " '__delitem__',\n",
       " '__dir__',\n",
       " '__doc__',\n",
       " '__eq__',\n",
       " '__format__',\n",
       " '__ge__',\n",
       " '__getattribute__',\n",
       " '__getitem__',\n",
       " '__gt__',\n",
       " '__hash__',\n",
       " '__init__',\n",
       " '__init_subclass__',\n",
       " '__ior__',\n",
       " '__iter__',\n",
       " '__le__',\n",
       " '__len__',\n",
       " '__lt__',\n",
       " '__ne__',\n",
       " '__new__',\n",
       " '__or__',\n",
       " '__reduce__',\n",
       " '__reduce_ex__',\n",
       " '__repr__',\n",
       " '__reversed__',\n",
       " '__ror__',\n",
       " '__setattr__',\n",
       " '__setitem__',\n",
       " '__sizeof__',\n",
       " '__str__',\n",
       " '__subclasshook__',\n",
       " 'clear',\n",
       " 'copy',\n",
       " 'fromkeys',\n",
       " 'get',\n",
       " 'items',\n",
       " 'keys',\n",
       " 'pop',\n",
       " 'popitem',\n",
       " 'setdefault',\n",
       " 'update',\n",
       " 'values']"
      ]
     },
     "execution_count": 54,
     "metadata": {},
     "output_type": "execute_result"
    }
   ],
   "source": [
    "dir(d1)"
   ]
  },
  {
   "cell_type": "code",
   "execution_count": null,
   "id": "02c877a7",
   "metadata": {},
   "outputs": [],
   "source": []
  }
 ],
 "metadata": {
  "kernelspec": {
   "display_name": "Python 3 (ipykernel)",
   "language": "python",
   "name": "python3"
  },
  "language_info": {
   "codemirror_mode": {
    "name": "ipython",
    "version": 3
   },
   "file_extension": ".py",
   "mimetype": "text/x-python",
   "name": "python",
   "nbconvert_exporter": "python",
   "pygments_lexer": "ipython3",
   "version": "3.9.13"
  }
 },
 "nbformat": 4,
 "nbformat_minor": 5
}
