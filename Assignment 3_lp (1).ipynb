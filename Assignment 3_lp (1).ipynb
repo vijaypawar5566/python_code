{
 "cells": [
  {
   "cell_type": "markdown",
   "id": "14de8df7",
   "metadata": {},
   "source": [
    "# Q1\n"
   ]
  },
  {
   "cell_type": "markdown",
   "id": "58351b1e",
   "metadata": {},
   "source": [
    "Str1=input(\"Enter a String\")\n",
    "st=Str1.replace(\" \",\"\")\n",
    "\n",
    "st1=list(st)\n",
    "a=(len(Str1)//2)\n",
    "\n",
    "print(Str1[a-1:a+2])\n"
   ]
  },
  {
   "cell_type": "markdown",
   "id": "3fa0d61c",
   "metadata": {},
   "source": [
    "# Q2"
   ]
  },
  {
   "cell_type": "code",
   "execution_count": 40,
   "id": "d703ca2c",
   "metadata": {},
   "outputs": [
    {
     "name": "stdout",
     "output_type": "stream",
     "text": [
      "Enter String No 1deepak\n",
      "Enter String No 2rajesh\n",
      "deerajeshpak\n"
     ]
    }
   ],
   "source": [
    "str1=input(\"Enter String No 1\")\n",
    "str2=input(\"Enter String No 2\")\n",
    "c=str1[0:len(str1)//2]+str2+str1[len(str1)//2:len(str1)]\n",
    "\n",
    "\n",
    "print(c)"
   ]
  },
  {
   "cell_type": "markdown",
   "id": "d201aa97",
   "metadata": {},
   "source": [
    "# Q3"
   ]
  },
  {
   "cell_type": "code",
   "execution_count": 35,
   "id": "a5716ad6",
   "metadata": {},
   "outputs": [
    {
     "name": "stdout",
     "output_type": "stream",
     "text": [
      "Enter String No 1vijay\n",
      "Enter String No 2jay\n",
      "['v', 'j', 'j', 'i', 'y', 'y']\n",
      "vjjiyy\n"
     ]
    }
   ],
   "source": [
    "str1=input(\"Enter String No 1\")\n",
    "str2=input(\"Enter String No 2\")\n",
    "Str3=list()\n",
    "Str3.append(str1[0])\n",
    "Str3.append(str2[0])\n",
    "\n",
    "Str3.append(str1[len(str1)//2])\n",
    "Str3.append(str1[len(str2)//2])\n",
    "\n",
    "Str3.append(str1[len(str1)-1])\n",
    "Str3.append(str2[len(str2)-1])\n",
    "\n",
    "a=\"\".join(Str3)\n",
    "print(a)\n",
    "\n",
    "\n",
    "\n"
   ]
  },
  {
   "cell_type": "markdown",
   "id": "2ea42dea",
   "metadata": {},
   "source": [
    "# Q 4"
   ]
  },
  {
   "cell_type": "code",
   "execution_count": 45,
   "id": "b799c5ad",
   "metadata": {},
   "outputs": [
    {
     "name": "stdout",
     "output_type": "stream",
     "text": [
      "Enter a StringViJayPawAr\n",
      "iayawrVJPA\n"
     ]
    }
   ],
   "source": [
    "Str1=input(\"Enter a String\")\n",
    "li=list(Str1)\n",
    "Str3=list()\n",
    "str3_capital=list()\n",
    "for e in range(len(li)):\n",
    "    if ord(li[e]) >=97 and ord(li[e])<=122:\n",
    "        Str3.append(li[e])\n",
    "    else:\n",
    "        str3_capital.append(li[e])\n",
    "final=Str3+str3_capital\n",
    "final=\"\".join(final)\n",
    "print(final)\n",
    "        \n"
   ]
  },
  {
   "cell_type": "markdown",
   "id": "6de1d2af",
   "metadata": {},
   "source": [
    "# Q5\n"
   ]
  },
  {
   "cell_type": "code",
   "execution_count": 56,
   "id": "31c721d7",
   "metadata": {},
   "outputs": [
    {
     "name": "stdout",
     "output_type": "stream",
     "text": [
      "Enter String No 1ABC\n",
      "Enter String No 2XYZ\n",
      "AZBYCX\n"
     ]
    }
   ],
   "source": [
    "# create a third-string made of the first char of s1 then the last char of s2, Next, the second\n",
    "# char of s1 and second last char of s2, and so on. Any leftover chars go at the end of the\n",
    "# result.\n",
    "\n",
    "# Given:\n",
    "# s1 = \"Abc\"\n",
    "# s2 = \"Xyz\"\n",
    "# Expected Output:\n",
    "# AzbycX\n",
    "\n",
    "Str1=input(\"Enter String No 1\")\n",
    "Str2=input(\"Enter String No 2\")\n",
    "\n",
    "# Str3=Str1[0]+Str2[len(Str2)-1]+Str1[1]+Str2[-2]+Str1[2]+Str2[-3]\n",
    "# print(Str3)\n",
    "st3=list()\n",
    "a=0\n",
    "b=len(Str2)-1\n",
    "for e in range (0,len(Str1)):\n",
    "    st3.append(Str1[a])\n",
    "    st3.append(Str2[b])\n",
    "    a=a+1\n",
    "    b=b-1\n",
    "st3=\"\".join(st3)\n",
    "print(st3)\n",
    "    "
   ]
  },
  {
   "cell_type": "markdown",
   "id": "1d301cd7",
   "metadata": {},
   "source": [
    "# Q6"
   ]
  },
  {
   "cell_type": "code",
   "execution_count": 71,
   "id": "a533f588",
   "metadata": {},
   "outputs": [
    {
     "name": "stdout",
     "output_type": "stream",
     "text": [
      "Enter a StringWelcome to USA. usa awesome, isn't it\n",
      "<re.Match object; span=(9, 12), match='usa'>\n"
     ]
    }
   ],
   "source": [
    "# Find all occurrences of “USA” from right to left in a given string ignoring the case. also\n",
    "# display the position\n",
    "# Given:\n",
    "\n",
    "# str1 = \"Welcome to USA. usa awesome, isn't it?\n",
    "import re\n",
    "str1=input(\"Enter a String\")\n",
    "\n",
    "str2=str1.replace(\" \" ,\"\")\n",
    "str2=str2.lower()\n",
    "st=re.search(\"usa\",str2)\n",
    "print(st)\n",
    "\n",
    "\n",
    "\n"
   ]
  }
 ],
 "metadata": {
  "kernelspec": {
   "display_name": "Python 3 (ipykernel)",
   "language": "python",
   "name": "python3"
  },
  "language_info": {
   "codemirror_mode": {
    "name": "ipython",
    "version": 3
   },
   "file_extension": ".py",
   "mimetype": "text/x-python",
   "name": "python",
   "nbconvert_exporter": "python",
   "pygments_lexer": "ipython3",
   "version": "3.9.13"
  }
 },
 "nbformat": 4,
 "nbformat_minor": 5
}
